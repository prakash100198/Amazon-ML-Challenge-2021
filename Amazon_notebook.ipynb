{
  "nbformat": 4,
  "nbformat_minor": 0,
  "metadata": {
    "colab": {
      "name": "Amazon notebook.ipynb",
      "provenance": [],
      "collapsed_sections": [
        "25hfAPB9DCEu",
        "EfV4QQEXBzeX",
        "CQJwMUzuBdjR",
        "IIunS6R8pcgy",
        "Ioj1Ay6wpldS",
        "SzFRMMUIqXfo",
        "hPJROVAU7sMs",
        "8mj9i1ie7nsI",
        "OLhHaNBY7xGu"
      ]
    },
    "kernelspec": {
      "name": "python3",
      "display_name": "Python 3"
    },
    "language_info": {
      "name": "python"
    },
    "accelerator": "GPU"
  },
  "cells": [
    {
      "cell_type": "code",
      "metadata": {
        "colab": {
          "base_uri": "https://localhost:8080/"
        },
        "id": "b_5p1xg77ilg",
        "outputId": "8fd65e50-f800-40f7-d812-71336035c7be"
      },
      "source": [
        "from google.colab import drive\n",
        "drive.mount('/content/drive/')"
      ],
      "execution_count": null,
      "outputs": [
        {
          "output_type": "stream",
          "text": [
            "Drive already mounted at /content/drive/; to attempt to forcibly remount, call drive.mount(\"/content/drive/\", force_remount=True).\n"
          ],
          "name": "stdout"
        }
      ]
    },
    {
      "cell_type": "markdown",
      "metadata": {
        "id": "25hfAPB9DCEu"
      },
      "source": [
        "# Exploring Datasets"
      ]
    },
    {
      "cell_type": "code",
      "metadata": {
        "id": "5eN_iWveU7P2"
      },
      "source": [
        "import pandas as pd\n",
        "import numpy as np"
      ],
      "execution_count": null,
      "outputs": []
    },
    {
      "cell_type": "code",
      "metadata": {
        "id": "wUdHyrEvVEW2"
      },
      "source": [
        ""
      ],
      "execution_count": null,
      "outputs": []
    },
    {
      "cell_type": "code",
      "metadata": {
        "colab": {
          "base_uri": "https://localhost:8080/"
        },
        "id": "OFONGPW-VLao",
        "outputId": "3e2dd795-e127-496e-8e6f-7df1849139fe"
      },
      "source": [
        "%%time\n",
        "train = pd.read_csv('/content/drive/MyDrive/Amazon Datasets/train.csv',escapechar = \"\\\\\" ,quoting = 3)"
      ],
      "execution_count": null,
      "outputs": [
        {
          "output_type": "error",
          "ename": "KeyboardInterrupt",
          "evalue": "ignored",
          "traceback": [
            "\u001b[0;31m---------------------------------------------------------------------------\u001b[0m",
            "\u001b[0;31mKeyboardInterrupt\u001b[0m                         Traceback (most recent call last)",
            "\u001b[0;32m<ipython-input-3-0b11c274c25a>\u001b[0m in \u001b[0;36m<module>\u001b[0;34m()\u001b[0m\n\u001b[0;32m----> 1\u001b[0;31m \u001b[0mget_ipython\u001b[0m\u001b[0;34m(\u001b[0m\u001b[0;34m)\u001b[0m\u001b[0;34m.\u001b[0m\u001b[0mrun_cell_magic\u001b[0m\u001b[0;34m(\u001b[0m\u001b[0;34m'time'\u001b[0m\u001b[0;34m,\u001b[0m \u001b[0;34m''\u001b[0m\u001b[0;34m,\u001b[0m \u001b[0;34m'train = pd.read_csv(\\'/content/drive/MyDrive/Amazon Datasets/train.csv\\',escapechar = \"\\\\\\\\\" ,quoting = 3)'\u001b[0m\u001b[0;34m)\u001b[0m\u001b[0;34m\u001b[0m\u001b[0;34m\u001b[0m\u001b[0m\n\u001b[0m",
            "\u001b[0;32m/usr/local/lib/python3.7/dist-packages/IPython/core/interactiveshell.py\u001b[0m in \u001b[0;36mrun_cell_magic\u001b[0;34m(self, magic_name, line, cell)\u001b[0m\n\u001b[1;32m   2115\u001b[0m             \u001b[0mmagic_arg_s\u001b[0m \u001b[0;34m=\u001b[0m \u001b[0mself\u001b[0m\u001b[0;34m.\u001b[0m\u001b[0mvar_expand\u001b[0m\u001b[0;34m(\u001b[0m\u001b[0mline\u001b[0m\u001b[0;34m,\u001b[0m \u001b[0mstack_depth\u001b[0m\u001b[0;34m)\u001b[0m\u001b[0;34m\u001b[0m\u001b[0;34m\u001b[0m\u001b[0m\n\u001b[1;32m   2116\u001b[0m             \u001b[0;32mwith\u001b[0m \u001b[0mself\u001b[0m\u001b[0;34m.\u001b[0m\u001b[0mbuiltin_trap\u001b[0m\u001b[0;34m:\u001b[0m\u001b[0;34m\u001b[0m\u001b[0;34m\u001b[0m\u001b[0m\n\u001b[0;32m-> 2117\u001b[0;31m                 \u001b[0mresult\u001b[0m \u001b[0;34m=\u001b[0m \u001b[0mfn\u001b[0m\u001b[0;34m(\u001b[0m\u001b[0mmagic_arg_s\u001b[0m\u001b[0;34m,\u001b[0m \u001b[0mcell\u001b[0m\u001b[0;34m)\u001b[0m\u001b[0;34m\u001b[0m\u001b[0;34m\u001b[0m\u001b[0m\n\u001b[0m\u001b[1;32m   2118\u001b[0m             \u001b[0;32mreturn\u001b[0m \u001b[0mresult\u001b[0m\u001b[0;34m\u001b[0m\u001b[0;34m\u001b[0m\u001b[0m\n\u001b[1;32m   2119\u001b[0m \u001b[0;34m\u001b[0m\u001b[0m\n",
            "\u001b[0;32m<decorator-gen-53>\u001b[0m in \u001b[0;36mtime\u001b[0;34m(self, line, cell, local_ns)\u001b[0m\n",
            "\u001b[0;32m/usr/local/lib/python3.7/dist-packages/IPython/core/magic.py\u001b[0m in \u001b[0;36m<lambda>\u001b[0;34m(f, *a, **k)\u001b[0m\n\u001b[1;32m    186\u001b[0m     \u001b[0;31m# but it's overkill for just that one bit of state.\u001b[0m\u001b[0;34m\u001b[0m\u001b[0;34m\u001b[0m\u001b[0;34m\u001b[0m\u001b[0m\n\u001b[1;32m    187\u001b[0m     \u001b[0;32mdef\u001b[0m \u001b[0mmagic_deco\u001b[0m\u001b[0;34m(\u001b[0m\u001b[0marg\u001b[0m\u001b[0;34m)\u001b[0m\u001b[0;34m:\u001b[0m\u001b[0;34m\u001b[0m\u001b[0;34m\u001b[0m\u001b[0m\n\u001b[0;32m--> 188\u001b[0;31m         \u001b[0mcall\u001b[0m \u001b[0;34m=\u001b[0m \u001b[0;32mlambda\u001b[0m \u001b[0mf\u001b[0m\u001b[0;34m,\u001b[0m \u001b[0;34m*\u001b[0m\u001b[0ma\u001b[0m\u001b[0;34m,\u001b[0m \u001b[0;34m**\u001b[0m\u001b[0mk\u001b[0m\u001b[0;34m:\u001b[0m \u001b[0mf\u001b[0m\u001b[0;34m(\u001b[0m\u001b[0;34m*\u001b[0m\u001b[0ma\u001b[0m\u001b[0;34m,\u001b[0m \u001b[0;34m**\u001b[0m\u001b[0mk\u001b[0m\u001b[0;34m)\u001b[0m\u001b[0;34m\u001b[0m\u001b[0;34m\u001b[0m\u001b[0m\n\u001b[0m\u001b[1;32m    189\u001b[0m \u001b[0;34m\u001b[0m\u001b[0m\n\u001b[1;32m    190\u001b[0m         \u001b[0;32mif\u001b[0m \u001b[0mcallable\u001b[0m\u001b[0;34m(\u001b[0m\u001b[0marg\u001b[0m\u001b[0;34m)\u001b[0m\u001b[0;34m:\u001b[0m\u001b[0;34m\u001b[0m\u001b[0;34m\u001b[0m\u001b[0m\n",
            "\u001b[0;32m/usr/local/lib/python3.7/dist-packages/IPython/core/magics/execution.py\u001b[0m in \u001b[0;36mtime\u001b[0;34m(self, line, cell, local_ns)\u001b[0m\n\u001b[1;32m   1191\u001b[0m         \u001b[0;32melse\u001b[0m\u001b[0;34m:\u001b[0m\u001b[0;34m\u001b[0m\u001b[0;34m\u001b[0m\u001b[0m\n\u001b[1;32m   1192\u001b[0m             \u001b[0mst\u001b[0m \u001b[0;34m=\u001b[0m \u001b[0mclock2\u001b[0m\u001b[0;34m(\u001b[0m\u001b[0;34m)\u001b[0m\u001b[0;34m\u001b[0m\u001b[0;34m\u001b[0m\u001b[0m\n\u001b[0;32m-> 1193\u001b[0;31m             \u001b[0mexec\u001b[0m\u001b[0;34m(\u001b[0m\u001b[0mcode\u001b[0m\u001b[0;34m,\u001b[0m \u001b[0mglob\u001b[0m\u001b[0;34m,\u001b[0m \u001b[0mlocal_ns\u001b[0m\u001b[0;34m)\u001b[0m\u001b[0;34m\u001b[0m\u001b[0;34m\u001b[0m\u001b[0m\n\u001b[0m\u001b[1;32m   1194\u001b[0m             \u001b[0mend\u001b[0m \u001b[0;34m=\u001b[0m \u001b[0mclock2\u001b[0m\u001b[0;34m(\u001b[0m\u001b[0;34m)\u001b[0m\u001b[0;34m\u001b[0m\u001b[0;34m\u001b[0m\u001b[0m\n\u001b[1;32m   1195\u001b[0m             \u001b[0mout\u001b[0m \u001b[0;34m=\u001b[0m \u001b[0;32mNone\u001b[0m\u001b[0;34m\u001b[0m\u001b[0;34m\u001b[0m\u001b[0m\n",
            "\u001b[0;32m<timed exec>\u001b[0m in \u001b[0;36m<module>\u001b[0;34m()\u001b[0m\n",
            "\u001b[0;32m/usr/local/lib/python3.7/dist-packages/pandas/io/parsers.py\u001b[0m in \u001b[0;36mread_csv\u001b[0;34m(filepath_or_buffer, sep, delimiter, header, names, index_col, usecols, squeeze, prefix, mangle_dupe_cols, dtype, engine, converters, true_values, false_values, skipinitialspace, skiprows, skipfooter, nrows, na_values, keep_default_na, na_filter, verbose, skip_blank_lines, parse_dates, infer_datetime_format, keep_date_col, date_parser, dayfirst, cache_dates, iterator, chunksize, compression, thousands, decimal, lineterminator, quotechar, quoting, doublequote, escapechar, comment, encoding, dialect, error_bad_lines, warn_bad_lines, delim_whitespace, low_memory, memory_map, float_precision)\u001b[0m\n\u001b[1;32m    686\u001b[0m     )\n\u001b[1;32m    687\u001b[0m \u001b[0;34m\u001b[0m\u001b[0m\n\u001b[0;32m--> 688\u001b[0;31m     \u001b[0;32mreturn\u001b[0m \u001b[0m_read\u001b[0m\u001b[0;34m(\u001b[0m\u001b[0mfilepath_or_buffer\u001b[0m\u001b[0;34m,\u001b[0m \u001b[0mkwds\u001b[0m\u001b[0;34m)\u001b[0m\u001b[0;34m\u001b[0m\u001b[0;34m\u001b[0m\u001b[0m\n\u001b[0m\u001b[1;32m    689\u001b[0m \u001b[0;34m\u001b[0m\u001b[0m\n\u001b[1;32m    690\u001b[0m \u001b[0;34m\u001b[0m\u001b[0m\n",
            "\u001b[0;32m/usr/local/lib/python3.7/dist-packages/pandas/io/parsers.py\u001b[0m in \u001b[0;36m_read\u001b[0;34m(filepath_or_buffer, kwds)\u001b[0m\n\u001b[1;32m    458\u001b[0m \u001b[0;34m\u001b[0m\u001b[0m\n\u001b[1;32m    459\u001b[0m     \u001b[0;32mtry\u001b[0m\u001b[0;34m:\u001b[0m\u001b[0;34m\u001b[0m\u001b[0;34m\u001b[0m\u001b[0m\n\u001b[0;32m--> 460\u001b[0;31m         \u001b[0mdata\u001b[0m \u001b[0;34m=\u001b[0m \u001b[0mparser\u001b[0m\u001b[0;34m.\u001b[0m\u001b[0mread\u001b[0m\u001b[0;34m(\u001b[0m\u001b[0mnrows\u001b[0m\u001b[0;34m)\u001b[0m\u001b[0;34m\u001b[0m\u001b[0;34m\u001b[0m\u001b[0m\n\u001b[0m\u001b[1;32m    461\u001b[0m     \u001b[0;32mfinally\u001b[0m\u001b[0;34m:\u001b[0m\u001b[0;34m\u001b[0m\u001b[0;34m\u001b[0m\u001b[0m\n\u001b[1;32m    462\u001b[0m         \u001b[0mparser\u001b[0m\u001b[0;34m.\u001b[0m\u001b[0mclose\u001b[0m\u001b[0;34m(\u001b[0m\u001b[0;34m)\u001b[0m\u001b[0;34m\u001b[0m\u001b[0;34m\u001b[0m\u001b[0m\n",
            "\u001b[0;32m/usr/local/lib/python3.7/dist-packages/pandas/io/parsers.py\u001b[0m in \u001b[0;36mread\u001b[0;34m(self, nrows)\u001b[0m\n\u001b[1;32m   1196\u001b[0m     \u001b[0;32mdef\u001b[0m \u001b[0mread\u001b[0m\u001b[0;34m(\u001b[0m\u001b[0mself\u001b[0m\u001b[0;34m,\u001b[0m \u001b[0mnrows\u001b[0m\u001b[0;34m=\u001b[0m\u001b[0;32mNone\u001b[0m\u001b[0;34m)\u001b[0m\u001b[0;34m:\u001b[0m\u001b[0;34m\u001b[0m\u001b[0;34m\u001b[0m\u001b[0m\n\u001b[1;32m   1197\u001b[0m         \u001b[0mnrows\u001b[0m \u001b[0;34m=\u001b[0m \u001b[0m_validate_integer\u001b[0m\u001b[0;34m(\u001b[0m\u001b[0;34m\"nrows\"\u001b[0m\u001b[0;34m,\u001b[0m \u001b[0mnrows\u001b[0m\u001b[0;34m)\u001b[0m\u001b[0;34m\u001b[0m\u001b[0;34m\u001b[0m\u001b[0m\n\u001b[0;32m-> 1198\u001b[0;31m         \u001b[0mret\u001b[0m \u001b[0;34m=\u001b[0m \u001b[0mself\u001b[0m\u001b[0;34m.\u001b[0m\u001b[0m_engine\u001b[0m\u001b[0;34m.\u001b[0m\u001b[0mread\u001b[0m\u001b[0;34m(\u001b[0m\u001b[0mnrows\u001b[0m\u001b[0;34m)\u001b[0m\u001b[0;34m\u001b[0m\u001b[0;34m\u001b[0m\u001b[0m\n\u001b[0m\u001b[1;32m   1199\u001b[0m \u001b[0;34m\u001b[0m\u001b[0m\n\u001b[1;32m   1200\u001b[0m         \u001b[0;31m# May alter columns / col_dict\u001b[0m\u001b[0;34m\u001b[0m\u001b[0;34m\u001b[0m\u001b[0;34m\u001b[0m\u001b[0m\n",
            "\u001b[0;32m/usr/local/lib/python3.7/dist-packages/pandas/io/parsers.py\u001b[0m in \u001b[0;36mread\u001b[0;34m(self, nrows)\u001b[0m\n\u001b[1;32m   2155\u001b[0m     \u001b[0;32mdef\u001b[0m \u001b[0mread\u001b[0m\u001b[0;34m(\u001b[0m\u001b[0mself\u001b[0m\u001b[0;34m,\u001b[0m \u001b[0mnrows\u001b[0m\u001b[0;34m=\u001b[0m\u001b[0;32mNone\u001b[0m\u001b[0;34m)\u001b[0m\u001b[0;34m:\u001b[0m\u001b[0;34m\u001b[0m\u001b[0;34m\u001b[0m\u001b[0m\n\u001b[1;32m   2156\u001b[0m         \u001b[0;32mtry\u001b[0m\u001b[0;34m:\u001b[0m\u001b[0;34m\u001b[0m\u001b[0;34m\u001b[0m\u001b[0m\n\u001b[0;32m-> 2157\u001b[0;31m             \u001b[0mdata\u001b[0m \u001b[0;34m=\u001b[0m \u001b[0mself\u001b[0m\u001b[0;34m.\u001b[0m\u001b[0m_reader\u001b[0m\u001b[0;34m.\u001b[0m\u001b[0mread\u001b[0m\u001b[0;34m(\u001b[0m\u001b[0mnrows\u001b[0m\u001b[0;34m)\u001b[0m\u001b[0;34m\u001b[0m\u001b[0;34m\u001b[0m\u001b[0m\n\u001b[0m\u001b[1;32m   2158\u001b[0m         \u001b[0;32mexcept\u001b[0m \u001b[0mStopIteration\u001b[0m\u001b[0;34m:\u001b[0m\u001b[0;34m\u001b[0m\u001b[0;34m\u001b[0m\u001b[0m\n\u001b[1;32m   2159\u001b[0m             \u001b[0;32mif\u001b[0m \u001b[0mself\u001b[0m\u001b[0;34m.\u001b[0m\u001b[0m_first_chunk\u001b[0m\u001b[0;34m:\u001b[0m\u001b[0;34m\u001b[0m\u001b[0;34m\u001b[0m\u001b[0m\n",
            "\u001b[0;32mpandas/_libs/parsers.pyx\u001b[0m in \u001b[0;36mpandas._libs.parsers.TextReader.read\u001b[0;34m()\u001b[0m\n",
            "\u001b[0;32mpandas/_libs/parsers.pyx\u001b[0m in \u001b[0;36mpandas._libs.parsers.TextReader._read_low_memory\u001b[0;34m()\u001b[0m\n",
            "\u001b[0;32mpandas/_libs/parsers.pyx\u001b[0m in \u001b[0;36mpandas._libs.parsers.TextReader._read_rows\u001b[0;34m()\u001b[0m\n",
            "\u001b[0;32mpandas/_libs/parsers.pyx\u001b[0m in \u001b[0;36mpandas._libs.parsers.TextReader._convert_column_data\u001b[0;34m()\u001b[0m\n",
            "\u001b[0;32mpandas/_libs/parsers.pyx\u001b[0m in \u001b[0;36mpandas._libs.parsers.TextReader._convert_tokens\u001b[0;34m()\u001b[0m\n",
            "\u001b[0;32mpandas/_libs/parsers.pyx\u001b[0m in \u001b[0;36mpandas._libs.parsers.TextReader._convert_with_dtype\u001b[0;34m()\u001b[0m\n",
            "\u001b[0;32m/usr/local/lib/python3.7/dist-packages/pandas/core/dtypes/common.py\u001b[0m in \u001b[0;36mis_categorical_dtype\u001b[0;34m(arr_or_dtype)\u001b[0m\n\u001b[1;32m    528\u001b[0m \u001b[0;34m\u001b[0m\u001b[0m\n\u001b[1;32m    529\u001b[0m \u001b[0;34m\u001b[0m\u001b[0m\n\u001b[0;32m--> 530\u001b[0;31m \u001b[0;32mdef\u001b[0m \u001b[0mis_categorical_dtype\u001b[0m\u001b[0;34m(\u001b[0m\u001b[0marr_or_dtype\u001b[0m\u001b[0;34m)\u001b[0m \u001b[0;34m->\u001b[0m \u001b[0mbool\u001b[0m\u001b[0;34m:\u001b[0m\u001b[0;34m\u001b[0m\u001b[0;34m\u001b[0m\u001b[0m\n\u001b[0m\u001b[1;32m    531\u001b[0m     \"\"\"\n\u001b[1;32m    532\u001b[0m     \u001b[0mCheck\u001b[0m \u001b[0mwhether\u001b[0m \u001b[0man\u001b[0m \u001b[0marray\u001b[0m\u001b[0;34m-\u001b[0m\u001b[0mlike\u001b[0m \u001b[0;32mor\u001b[0m \u001b[0mdtype\u001b[0m \u001b[0;32mis\u001b[0m \u001b[0mof\u001b[0m \u001b[0mthe\u001b[0m \u001b[0mCategorical\u001b[0m \u001b[0mdtype\u001b[0m\u001b[0;34m.\u001b[0m\u001b[0;34m\u001b[0m\u001b[0;34m\u001b[0m\u001b[0m\n",
            "\u001b[0;31mKeyboardInterrupt\u001b[0m: "
          ]
        }
      ]
    },
    {
      "cell_type": "code",
      "metadata": {
        "id": "QNreCpIjWG2k"
      },
      "source": [
        "test = pd.read_csv('/content/drive/MyDrive/Amazon Datasets/test.csv',escapechar = \"\\\\\" ,quoting = 3)"
      ],
      "execution_count": null,
      "outputs": []
    },
    {
      "cell_type": "code",
      "metadata": {
        "id": "34mKWqV7WWd9"
      },
      "source": [
        "train.head()"
      ],
      "execution_count": null,
      "outputs": []
    },
    {
      "cell_type": "code",
      "metadata": {
        "id": "ciNakH16WWhI"
      },
      "source": [
        "train.BROWSE_NODE_ID.value_counts()"
      ],
      "execution_count": null,
      "outputs": []
    },
    {
      "cell_type": "code",
      "metadata": {
        "id": "5RSZW4pQXLwE"
      },
      "source": [
        "train.isnull().sum()"
      ],
      "execution_count": null,
      "outputs": []
    },
    {
      "cell_type": "code",
      "metadata": {
        "id": "U9WU6XdEXOJS"
      },
      "source": [
        "test.isnull().sum()"
      ],
      "execution_count": null,
      "outputs": []
    },
    {
      "cell_type": "code",
      "metadata": {
        "id": "-F0m5swFWWkm"
      },
      "source": [
        "train[train['TITLE'].isnull() &train['DESCRIPTION'].isnull()& train['BULLET_POINTS'].isnull()].shape"
      ],
      "execution_count": null,
      "outputs": []
    },
    {
      "cell_type": "code",
      "metadata": {
        "id": "eE-819WaWWnQ"
      },
      "source": [
        "print(train.shape)\n",
        "train = train[~(train['TITLE'].isnull() &train['DESCRIPTION'].isnull()& train['BULLET_POINTS'].isnull())]\n",
        "print(train.shape)"
      ],
      "execution_count": null,
      "outputs": []
    },
    {
      "cell_type": "code",
      "metadata": {
        "id": "PlWOIkZcWWqA"
      },
      "source": [
        "train.head(10)"
      ],
      "execution_count": null,
      "outputs": []
    },
    {
      "cell_type": "code",
      "metadata": {
        "id": "ev34H8kg2EZL"
      },
      "source": [
        "train[train['BULLET_POINTS'].isnull()]"
      ],
      "execution_count": null,
      "outputs": []
    },
    {
      "cell_type": "code",
      "metadata": {
        "id": "wSDKli_tWWsS"
      },
      "source": [
        "train['DESCRIPTION'][6]"
      ],
      "execution_count": null,
      "outputs": []
    },
    {
      "cell_type": "code",
      "metadata": {
        "id": "yY3sd6tHrkYH"
      },
      "source": [
        "train['TITLE'][8]"
      ],
      "execution_count": null,
      "outputs": []
    },
    {
      "cell_type": "code",
      "metadata": {
        "id": "80tHv7dlyAYq"
      },
      "source": [
        "train['BULLET_POINTS'][8]"
      ],
      "execution_count": null,
      "outputs": []
    },
    {
      "cell_type": "markdown",
      "metadata": {
        "id": "EfV4QQEXBzeX"
      },
      "source": [
        "# Text summarizer"
      ]
    },
    {
      "cell_type": "code",
      "metadata": {
        "id": "gL3682-OYV7i"
      },
      "source": [
        "import nltk\n",
        "from nltk.corpus import stopwords\n",
        "from nltk.tokenize import word_tokenize,sent_tokenize"
      ],
      "execution_count": null,
      "outputs": []
    },
    {
      "cell_type": "code",
      "metadata": {
        "id": "cK3TUqQLYV-b"
      },
      "source": [
        "nltk.download('stopwords')   \n",
        "nltk.download('punkt')\n",
        "nltk.download('wordnet')\n",
        "!pip install -q wordcloud\n",
        "import wordcloud"
      ],
      "execution_count": null,
      "outputs": []
    },
    {
      "cell_type": "code",
      "metadata": {
        "id": "e85YzKXNYWBE"
      },
      "source": [
        "text = train['DESCRIPTION'][6]"
      ],
      "execution_count": null,
      "outputs": []
    },
    {
      "cell_type": "code",
      "metadata": {
        "id": "Y_BqADtLYWDK"
      },
      "source": [
        "##Tokenizing the text\n",
        "stopWords=stopwords.words('english')\n",
        "words=word_tokenize(text)"
      ],
      "execution_count": null,
      "outputs": []
    },
    {
      "cell_type": "code",
      "metadata": {
        "id": "uxJAUrKaYWFj"
      },
      "source": [
        "##creating freq table for each word\n",
        "freqTable = dict()\n",
        "for word in words:\n",
        "  word=word.lower()\n",
        "  if word in stopWords:\n",
        "    continue\n",
        "  if word in freqTable:\n",
        "    freqTable[word]+=1\n",
        "  else:\n",
        "    freqTable[word]=1  \n",
        "##creating dict to keep score of each sentence\n",
        "sentenceValue = dict()\n",
        "sentences = sent_tokenize(text)\n",
        "for sentence in sentences:\n",
        "  for word,freq in freqTable.items():\n",
        "    if word in sentence.lower():\n",
        "      if sentence in sentenceValue:\n",
        "        sentenceValue[sentence]+=freq\n",
        "      else:\n",
        "        sentenceValue[sentence]=freq  "
      ],
      "execution_count": null,
      "outputs": []
    },
    {
      "cell_type": "code",
      "metadata": {
        "id": "Qqz1enS_xb1o"
      },
      "source": [
        "sentences"
      ],
      "execution_count": null,
      "outputs": []
    },
    {
      "cell_type": "code",
      "metadata": {
        "id": "UIORwTOrYWJ9"
      },
      "source": [
        "freqTable,sentenceValue"
      ],
      "execution_count": null,
      "outputs": []
    },
    {
      "cell_type": "code",
      "metadata": {
        "id": "l-lviMLqmGVn"
      },
      "source": [
        "sumvalues=0\n",
        "for sentence in sentenceValue:\n",
        "  sumvalues+=sentenceValue[sentence]"
      ],
      "execution_count": null,
      "outputs": []
    },
    {
      "cell_type": "code",
      "metadata": {
        "id": "IWZ3mVW7qIPu"
      },
      "source": [
        "##Avg value of sentence from og text\n",
        "avg = int(sumvalues/len(sentenceValue)-1)"
      ],
      "execution_count": null,
      "outputs": []
    },
    {
      "cell_type": "code",
      "metadata": {
        "id": "1f9VRhPxqxWy"
      },
      "source": [
        "avg"
      ],
      "execution_count": null,
      "outputs": []
    },
    {
      "cell_type": "code",
      "metadata": {
        "id": "qBzOipY1qKOY"
      },
      "source": [
        "##storing sentence in summary\n",
        "summary=''\n",
        "for sentence in sentences:\n",
        "  if (sentence in sentenceValue) and (sentenceValue[sentence]>(1.2*avg)):\n",
        "    summary=summary +\" \" +sentence\n",
        "    "
      ],
      "execution_count": null,
      "outputs": []
    },
    {
      "cell_type": "code",
      "metadata": {
        "id": "pTRmHJI_qYrU"
      },
      "source": [
        "train['TITLE'][8]+','+summary"
      ],
      "execution_count": null,
      "outputs": []
    },
    {
      "cell_type": "markdown",
      "metadata": {
        "id": "CQJwMUzuBdjR"
      },
      "source": [
        "# Final Packing into Functions \n"
      ]
    },
    {
      "cell_type": "code",
      "metadata": {
        "id": "w6IR13VH2wMd"
      },
      "source": [
        "def text_summarizer(text):\n",
        "  ##Tokenizing the text\n",
        "  stopWords=stopwords.words('english')\n",
        "  words=word_tokenize(text)\n",
        "  ##creating freq table for each word\n",
        "  freqTable = dict()\n",
        "  for word in words:\n",
        "    word=word.lower()\n",
        "    if word in stopWords:\n",
        "      continue\n",
        "    if word in freqTable:\n",
        "      freqTable[word]+=1\n",
        "    else:\n",
        "      freqTable[word]=1  \n",
        "  ##creating dict to keep score of each sentence\n",
        "  sentenceValue = dict()\n",
        "  sentences = sent_tokenize(text)\n",
        "  if len(sentences)==1:\n",
        "    return sentences[0]\n",
        "  else:  \n",
        "    for sentence in sentences:\n",
        "      for word,freq in freqTable.items():\n",
        "        if word in sentence.lower():\n",
        "          if sentence in sentenceValue:\n",
        "            sentenceValue[sentence]+=freq\n",
        "          else:\n",
        "            sentenceValue[sentence]=freq \n",
        "\n",
        "    sumvalues=0\n",
        "    for sentence in sentenceValue:\n",
        "      sumvalues+=sentenceValue[sentence]\n",
        "    ##Avg value of sentence from og text\n",
        "    avg = int(sumvalues/len(sentenceValue))  \n",
        "    ##storing sentence in summary\n",
        "    summary=''\n",
        "    for sentence in sentences:\n",
        "      if (sentence in sentenceValue) and (sentenceValue[sentence]>(1.2*avg)):\n",
        "        summary=summary +\" \" +sentence        \n",
        "    return summary\n"
      ],
      "execution_count": null,
      "outputs": []
    },
    {
      "cell_type": "code",
      "metadata": {
        "id": "zJxu7aqprX5-"
      },
      "source": [
        "def bullet_points_generator(data):\n",
        "  data1= data[data['BULLET_POINTS'].isnull()]\n",
        "  data1_index = list(data1.index)\n",
        "  for index in data1_index:\n",
        "    if (data1['DESCRIPTION'].isnull()[index]==False) and (data1['TITLE'].isnull()[index]==False) :#if none are null value\n",
        "      data1.at[index,'BULLET_POINTS']=[data1['TITLE'].loc[index]+','+ text_summarizer(data1['DESCRIPTION'].loc[index])]\n",
        "    elif (data1['DESCRIPTION'].isnull()[index]==False) and (data1['TITLE'].isnull()[index]==True):#if TITLE is null\n",
        "      data1.at[index,'BULLET_POINTS']=[text_summarizer(data1['DESCRIPTION'].loc[index])]\n",
        "    elif (data1['DESCRIPTION'].isnull()[index]==True) and (data1['TITLE'].isnull()[index]==False):#if DESCRIPTION is null\n",
        "      data1.at[index,'BULLET_POINTS']=  [data1['TITLE'].loc[index]]\n",
        "    else:\n",
        "      continue  \n",
        "      ##assuming that in test data all three won't be null at the same time and removed such rows from train data\n",
        "  data.drop(data1_index,axis=0,inplace=True)\n",
        "  final_data = pd.concat([data,data1])\n",
        "  final_data = final_data.reset_index().iloc[:,1:]\n",
        "  return final_data      \n",
        "      \n",
        "\n",
        "\n",
        "\n"
      ],
      "execution_count": null,
      "outputs": []
    },
    {
      "cell_type": "code",
      "metadata": {
        "id": "F6QsHSoSvpKj"
      },
      "source": [
        "train"
      ],
      "execution_count": null,
      "outputs": []
    },
    {
      "cell_type": "markdown",
      "metadata": {
        "id": "RYWdh5pmCiMj"
      },
      "source": [
        "### Getting Final Dataaset - Beware of the below cell, as this took 2:30 hr to execute "
      ]
    },
    {
      "cell_type": "code",
      "metadata": {
        "id": "el0cDoVKtQzs"
      },
      "source": [
        "#train_final = bullet_points_generator(train) \n"
      ],
      "execution_count": null,
      "outputs": []
    },
    {
      "cell_type": "code",
      "metadata": {
        "id": "jdNP5sS2YZjr"
      },
      "source": [
        "#train_final"
      ],
      "execution_count": null,
      "outputs": []
    },
    {
      "cell_type": "code",
      "metadata": {
        "id": "uPNp3f8a6kAO"
      },
      "source": [
        ""
      ],
      "execution_count": null,
      "outputs": []
    },
    {
      "cell_type": "code",
      "metadata": {
        "id": "SoKKTYebYZlv"
      },
      "source": [
        "#train_final.to_csv('final_train.csv',index=False)"
      ],
      "execution_count": null,
      "outputs": []
    },
    {
      "cell_type": "code",
      "metadata": {
        "id": "66R2jkAx7HSa"
      },
      "source": [
        "\n"
      ],
      "execution_count": null,
      "outputs": []
    },
    {
      "cell_type": "code",
      "metadata": {
        "id": "Rsc3Wi35F1qr"
      },
      "source": [
        "#test_final = bullet_points_generator(test)"
      ],
      "execution_count": null,
      "outputs": []
    },
    {
      "cell_type": "code",
      "metadata": {
        "id": "mzvtAHQCGtBZ"
      },
      "source": [
        "#test_final.to_csv('final_test.csv',index=False)"
      ],
      "execution_count": null,
      "outputs": []
    },
    {
      "cell_type": "code",
      "metadata": {
        "id": "jCLdR2ByHKvb"
      },
      "source": [
        "#test_final"
      ],
      "execution_count": null,
      "outputs": []
    },
    {
      "cell_type": "code",
      "metadata": {
        "id": "h-ZYXCclHMP9"
      },
      "source": [
        "test.isnull().sum()"
      ],
      "execution_count": null,
      "outputs": []
    },
    {
      "cell_type": "code",
      "metadata": {
        "id": "EDGodG9UHP1j"
      },
      "source": [
        "#test_final.isnull().sum()"
      ],
      "execution_count": null,
      "outputs": []
    },
    {
      "cell_type": "markdown",
      "metadata": {
        "id": "IIunS6R8pcgy"
      },
      "source": [
        "# Upto POS tagger pipeline"
      ]
    },
    {
      "cell_type": "code",
      "metadata": {
        "id": "Jj-TPE0LHbEg"
      },
      "source": [
        "import nltk\n",
        "nltk.download('stopwords')\n",
        "nltk.download('punkt')\n",
        "nltk.download('averaged_perceptron_tagger')\n",
        "from nltk.corpus import stopwords\n",
        "stop = stopwords.words('english')\n",
        "from nltk import word_tokenize, pos_tag, pos_tag_sents\n",
        "from sklearn.pipeline import Pipeline\n",
        "\n",
        "pd.options.display.max_colwidth = 10000000\n",
        "pd.options.mode.chained_assignment = None  "
      ],
      "execution_count": null,
      "outputs": []
    },
    {
      "cell_type": "code",
      "metadata": {
        "id": "ArtjVtN8J2xp"
      },
      "source": [
        "from string import punctuation\n",
        "Sp_C = list(punctuation)\n",
        "\n",
        "ord = ['FW','NN','NNP','NNS',\"JJ\",'JJr','JJS']"
      ],
      "execution_count": null,
      "outputs": []
    },
    {
      "cell_type": "code",
      "metadata": {
        "id": "HIFjTZayJ25i"
      },
      "source": [
        "train.drop(['TITLE', 'DESCRIPTION','BRAND'], axis=1,inplace=True)\n",
        "train.dropna(inplace=True)"
      ],
      "execution_count": null,
      "outputs": []
    },
    {
      "cell_type": "code",
      "metadata": {
        "id": "BoO_LtLWJ26J"
      },
      "source": [
        "class DataframeFunctionTransformer():\n",
        "    def __init__(self, func):\n",
        "        self.func = func\n",
        "\n",
        "    def transform(self, input_df, **transform_params):\n",
        "        return self.func(input_df)\n",
        "\n",
        "    def fit(self, X, y=None, **fit_params):\n",
        "        return self"
      ],
      "execution_count": null,
      "outputs": []
    },
    {
      "cell_type": "code",
      "metadata": {
        "id": "yznJhBR2J265"
      },
      "source": [
        "VSize = []\n"
      ],
      "execution_count": null,
      "outputs": []
    },
    {
      "cell_type": "code",
      "metadata": {
        "id": "eSI1OrpSJ27p"
      },
      "source": [
        "def upeer_dataframe(input_df):\n",
        "    input_df[\"BULLET_POINTS\"] = input_df[\"BULLET_POINTS\"].map(lambda t: t.lower())\n",
        "    return input_df\n",
        "\n",
        "def Stopword_dataframe(input_df):\n",
        "    input_df[\"BULLET_POINTS\"] = input_df[\"BULLET_POINTS\"].apply(lambda x: ' '.join([word for word in x.split() if word not in (stop)]))\n",
        "    return input_df\n",
        "\n",
        "def Clean(input_df):\n",
        "  input_df[\"BULLET_POINTS\"]  = input_df[\"BULLET_POINTS\"].apply(lambda x: x.encode('ascii', 'ignore').decode('ascii'))\n",
        "  input_df[\"BULLET_POINTS\"] = input_df[\"BULLET_POINTS\"].replace(r'http\\S+', '', regex=True).replace(r'www\\S+', '', regex=True)\n",
        "  return input_df\n",
        "\n",
        "def PosTag_dataframe(input_df):\n",
        "  for row in input_df.iterrows():\n",
        "    print(row[0])\n",
        "    # print(row[1]['BULLET_POINTS'])\n",
        "    texts = row[1]['BULLET_POINTS'].split(',')\n",
        "    # print(texts)\n",
        "    tagged_texts = pos_tag_sents(map(word_tokenize, texts))\n",
        "    req = []\n",
        "    for i in tagged_texts:\n",
        "      for j in i:\n",
        "        if(j[0] not in Sp_C and j[1] in ord):\n",
        "          if(j[0] not in req):\n",
        "            req.append(j[0])\n",
        "          if(j[0] not in VSize):\n",
        "            VSize.append(j[0])\n",
        "    sent = \"\"\n",
        "    Max_Len = 512;\n",
        "    for i in range(len(req)):\n",
        "      if(i<len(req)-1 and req[i].isdigit() and req[i+1].isdigit()):\n",
        "        sent += req[i] + \".\"\n",
        "      else:\n",
        "        sent += req[i] +' '\n",
        "      if(i>Max_Len):\n",
        "        break;\n",
        "    input_df['BULLET_POINTS'].loc[row[0]]= sent\n",
        "  return input_df"
      ],
      "execution_count": null,
      "outputs": []
    },
    {
      "cell_type": "code",
      "metadata": {
        "id": "u4B19cNFJ28Y"
      },
      "source": [
        "# The pipeline \n",
        "pipeline = Pipeline([\n",
        "    (\"lowercase\", DataframeFunctionTransformer(upeer_dataframe)),\n",
        "    (\"Stopword\",DataframeFunctionTransformer(Stopword_dataframe)),\n",
        "    (\"Clean\",DataframeFunctionTransformer(Clean)),\n",
        "    (\"Pos_Tag\",DataframeFunctionTransformer(PosTag_dataframe))\n",
        "])\n"
      ],
      "execution_count": null,
      "outputs": []
    },
    {
      "cell_type": "code",
      "metadata": {
        "id": "syxKTzh-J29E"
      },
      "source": [
        "\n",
        "# apply the pipeline to the input dataframe\n",
        "pipeline.fit_transform(train.loc[0:10000])"
      ],
      "execution_count": null,
      "outputs": []
    },
    {
      "cell_type": "markdown",
      "metadata": {
        "id": "Ioj1Ay6wpldS"
      },
      "source": [
        "# Models"
      ]
    },
    {
      "cell_type": "code",
      "metadata": {
        "id": "GqnhQ7loJ292"
      },
      "source": [
        "from tensorflow.keras.layers import Embedding\n",
        "from tensorflow.keras.preprocessing.sequence import pad_sequences\n",
        "from tensorflow.keras.models import Sequential\n",
        "from tensorflow.keras.preprocessing.text import one_hot\n",
        "from tensorflow.keras.layers import LSTM\n",
        "from tensorflow.keras.layers import Dense"
      ],
      "execution_count": null,
      "outputs": []
    },
    {
      "cell_type": "code",
      "metadata": {
        "id": "iFIq1j0OJ2-h"
      },
      "source": [
        "Courpus = list(train['BULLET_POINTS'].loc[0:10000])\n",
        "Vcab = len(VSize)\n",
        "Vcab"
      ],
      "execution_count": null,
      "outputs": []
    },
    {
      "cell_type": "code",
      "metadata": {
        "id": "9KEwrA1TJ2_P"
      },
      "source": [
        "train[0:23387]"
      ],
      "execution_count": null,
      "outputs": []
    },
    {
      "cell_type": "code",
      "metadata": {
        "id": "gwXv_ehqJ3AB"
      },
      "source": [
        "Y = list(train['BROWSE_NODE_ID'].loc[0:10000])\n",
        "print(\"MAX = \" ,max(Y))\n",
        "print(\"MIN = \" ,min(Y))"
      ],
      "execution_count": null,
      "outputs": []
    },
    {
      "cell_type": "code",
      "metadata": {
        "id": "3yEFz_Z0J3Av"
      },
      "source": [
        "One_Hot = [one_hot(words,Vcab)for words in Courpus] "
      ],
      "execution_count": null,
      "outputs": []
    },
    {
      "cell_type": "code",
      "metadata": {
        "id": "Q5sUypcsJ3Bd"
      },
      "source": [
        "One_Hot"
      ],
      "execution_count": null,
      "outputs": []
    },
    {
      "cell_type": "code",
      "metadata": {
        "id": "nXmOF9ubJ3CJ"
      },
      "source": [
        "sent_length = 512\n",
        "Padded = pad_sequences(One_Hot,padding='pre',maxlen=sent_length)"
      ],
      "execution_count": null,
      "outputs": []
    },
    {
      "cell_type": "code",
      "metadata": {
        "id": "s9sibGgsJ3C1"
      },
      "source": [
        "import numpy as np\n",
        "X_final=np.array(Padded)\n",
        "y_final=np.array(Y)\n",
        "X_final.shape,y_final.shape"
      ],
      "execution_count": null,
      "outputs": []
    },
    {
      "cell_type": "code",
      "metadata": {
        "id": "fSW-1yeEJ3De"
      },
      "source": [
        "from sklearn.svm import SVC,SVR\n",
        "from sklearn.preprocessing import StandardScaler\n",
        "from sklearn.pipeline import Pipeline\n",
        "from sklearn.tree import DecisionTreeClassifier,DecisionTreeRegressor\n",
        "from sklearn.ensemble import RandomForestRegressor,RandomForestClassifier,ExtraTreesRegressor,ExtraTreesClassifier,VotingRegressor,VotingClassifier,AdaBoostRegressor,AdaBoostClassifier\n",
        "from xgboost import XGBClassifier,XGBRegressor"
      ],
      "execution_count": null,
      "outputs": []
    },
    {
      "cell_type": "code",
      "metadata": {
        "id": "TuZPXPiGJ3EG"
      },
      "source": [
        "std_scaler = StandardScaler()\n",
        "##model1_pipeline = Pipeline([('scaler',std_scaler),('svc',SVC())])\n",
        "svr=SVR()\n",
        "svc=SVC()\n",
        "\n",
        "# decision = DecisionTreeRegressor()\n",
        "# random_forest = RandomForestRegressor(n_estimators=200)\n",
        "# extra_trees = ExtraTreesRegressor(n_estimators=200)\n",
        "# adaboost = AdaBoostRegressor(n_estimators=100)\n",
        "# xg= XGBRegressor()\n",
        "\n",
        "decision = DecisionTreeClassifier()\n",
        "random_forest = RandomForestClassifier(n_estimators=200)\n",
        "extra_trees = ExtraTreesClassifier(n_estimators=200)\n",
        "adaboost = AdaBoostClassifier(n_estimators=100)\n",
        "xg= XGBClassifier()"
      ],
      "execution_count": null,
      "outputs": []
    },
    {
      "cell_type": "code",
      "metadata": {
        "id": "azj_3YDNJ3Et"
      },
      "source": [
        ""
      ],
      "execution_count": null,
      "outputs": []
    },
    {
      "cell_type": "code",
      "metadata": {
        "id": "Vk0Z4pG8J3Gb"
      },
      "source": [
        "#test_final.shape"
      ],
      "execution_count": null,
      "outputs": []
    },
    {
      "cell_type": "code",
      "metadata": {
        "id": "XpiV0IdGl22W"
      },
      "source": [
        "X_final"
      ],
      "execution_count": null,
      "outputs": []
    },
    {
      "cell_type": "code",
      "metadata": {
        "id": "x4tWNXgJr1Bf"
      },
      "source": [
        "train"
      ],
      "execution_count": null,
      "outputs": []
    },
    {
      "cell_type": "markdown",
      "metadata": {
        "id": "SzFRMMUIqXfo"
      },
      "source": [
        "# validation set"
      ]
    },
    {
      "cell_type": "code",
      "metadata": {
        "id": "np_Hyy9eqaGP"
      },
      "source": [
        "X_vali,y_vali= train.loc[10001:11000],train['BROWSE_NODE_ID'].loc[10001:11000]"
      ],
      "execution_count": null,
      "outputs": []
    },
    {
      "cell_type": "code",
      "metadata": {
        "id": "uc5uetFWztJ6"
      },
      "source": [
        "len(y_vali)"
      ],
      "execution_count": null,
      "outputs": []
    },
    {
      "cell_type": "code",
      "metadata": {
        "id": "IaMiJwxhtsvL"
      },
      "source": [
        "y_vali = list(y_vali)"
      ],
      "execution_count": null,
      "outputs": []
    },
    {
      "cell_type": "code",
      "metadata": {
        "id": "0riNRfo3uJZN"
      },
      "source": [
        "pipeline.fit_transform(X_vali)"
      ],
      "execution_count": null,
      "outputs": []
    },
    {
      "cell_type": "code",
      "metadata": {
        "id": "j5_kQ-q8uJ-t"
      },
      "source": [
        "Courpus = list(train['BULLET_POINTS'].loc[10001:11000])\n",
        "Vcab = len(VSize)\n",
        "One_Hot = [one_hot(words,Vcab)for words in Courpus] \n",
        "sent_length = 512\n",
        "Padded = pad_sequences(One_Hot,padding='pre',maxlen=sent_length)\n",
        "X_vali_final=np.array(Padded)\n",
        "X_vali_final.shape"
      ],
      "execution_count": null,
      "outputs": []
    },
    {
      "cell_type": "code",
      "metadata": {
        "id": "Xi5JKBBCuKBO"
      },
      "source": [
        "#predictions = model1_pipeline.predict(X_vali_final)"
      ],
      "execution_count": null,
      "outputs": []
    },
    {
      "cell_type": "code",
      "metadata": {
        "id": "wKHeOH2PuKEj"
      },
      "source": [
        "#len(predictions),len(y_vali)"
      ],
      "execution_count": null,
      "outputs": []
    },
    {
      "cell_type": "code",
      "metadata": {
        "id": "sxNmaAnLuKGQ"
      },
      "source": [
        "#min(y_vali),max(y_vali)"
      ],
      "execution_count": null,
      "outputs": []
    },
    {
      "cell_type": "code",
      "metadata": {
        "id": "lU_mrB_8zOWI"
      },
      "source": [
        "#m#in(predictions),max(predictions)"
      ],
      "execution_count": null,
      "outputs": []
    },
    {
      "cell_type": "code",
      "metadata": {
        "id": "PGfRDx6QdqPk"
      },
      "source": [
        "#new_test = test_final.drop(['PRODUCT_ID','TITLE','DESCRIPTION','BRAND'],axis=1)"
      ],
      "execution_count": null,
      "outputs": []
    },
    {
      "cell_type": "code",
      "metadata": {
        "id": "eapDa2bEkIyv"
      },
      "source": [
        "#Ptest = new_test.loc[0:10000]"
      ],
      "execution_count": null,
      "outputs": []
    },
    {
      "cell_type": "code",
      "metadata": {
        "id": "7jJU-ySvdqSS"
      },
      "source": [
        "#pipeline.fit_transform(Ptest)"
      ],
      "execution_count": null,
      "outputs": []
    },
    {
      "cell_type": "code",
      "metadata": {
        "id": "Iy8-B6TedqVY"
      },
      "source": [
        "# Courpus = list(Ptest['BULLET_POINTS'])\n",
        "# One_Hot = [one_hot(words,Vcab)for words in Courpus] \n",
        "# sent_length = 512\n",
        "# Padded = pad_sequences(One_Hot,padding='pre',maxlen=sent_length)\n",
        "# test_pred = np.array(Padded)"
      ],
      "execution_count": null,
      "outputs": []
    },
    {
      "cell_type": "code",
      "metadata": {
        "id": "sLqBwlGOdqXp"
      },
      "source": [
        "from sklearn.metrics import accuracy_score,mean_squared_error,r2_score\n",
        "for model in [extra_trees,adaboost,xg]:\n",
        "  model.fit(X_final,y_final)\n",
        "  prediction = model.predict(X_vali_final)\n",
        "  prediction=np.ceil(prediction)\n",
        "  \n",
        "  # if model==svc:\n",
        "  #   print('Model= ','svc')\n",
        "  #   print('accuracy= ', accuracy_score(y_vali,prediction))\n",
        "  # elif model==decision:\n",
        "  #   print('Model= ','Decision Tree Regressor')\n",
        "  #   print('accuracy= ', accuracy_score(y_vali,prediction))\n",
        "  # elif model==random_forest:\n",
        "  #   print('Model= ','Random Forest Regressor')\n",
        "  #   print('accuracy= ', accuracy_score(y_vali,prediction))\n",
        "  if model==extra_trees:\n",
        "    print('Model= ','Extra Tree Regressor')\n",
        "    print('accuracy= ', accuracy_score(y_vali,prediction)) \n",
        "  elif model==adaboost:\n",
        "    print('Model= ','Adaboost Regressor')\n",
        "    print('accuracy= ', accuracy_score(y_vali,prediction))   \n",
        "  else:\n",
        "    print('Model= ','XG boost Regressor')\n",
        "    print('accuracy= ', accuracy_score(y_vali,prediction))  \n"
      ],
      "execution_count": null,
      "outputs": []
    },
    {
      "cell_type": "code",
      "metadata": {
        "id": "6AlIaxYkn_0f"
      },
      "source": [
        "#predictions = np.floor(predictions)"
      ],
      "execution_count": null,
      "outputs": []
    },
    {
      "cell_type": "code",
      "metadata": {
        "id": "rwdGt4-YoBfm"
      },
      "source": [
        ""
      ],
      "execution_count": null,
      "outputs": []
    },
    {
      "cell_type": "code",
      "metadata": {
        "id": "G722r_BkdqZ0"
      },
      "source": [
        ""
      ],
      "execution_count": null,
      "outputs": []
    },
    {
      "cell_type": "code",
      "metadata": {
        "id": "EwPJYVPylIeo"
      },
      "source": [
        ""
      ],
      "execution_count": null,
      "outputs": []
    },
    {
      "cell_type": "code",
      "metadata": {
        "id": "FrLlBPHklZU-"
      },
      "source": [
        ""
      ],
      "execution_count": null,
      "outputs": []
    },
    {
      "cell_type": "markdown",
      "metadata": {
        "id": "2Z9Mz1PBp7Lx"
      },
      "source": [
        "# Models"
      ]
    },
    {
      "cell_type": "code",
      "metadata": {
        "id": "YB1hOeC5p8Ew"
      },
      "source": [
        "import pandas as pd\n",
        "import numpy as np  "
      ],
      "execution_count": null,
      "outputs": []
    },
    {
      "cell_type": "code",
      "metadata": {
        "id": "2drlC3sJqHdK"
      },
      "source": [
        "df= pd.read_csv('cluster18.csv')"
      ],
      "execution_count": null,
      "outputs": []
    },
    {
      "cell_type": "code",
      "metadata": {
        "id": "TRkp-7gcqHiM",
        "colab": {
          "base_uri": "https://localhost:8080/",
          "height": 203
        },
        "outputId": "e022f767-d89c-43bf-ea14-05862f2635cf"
      },
      "source": [
        "df.head()"
      ],
      "execution_count": null,
      "outputs": [
        {
          "output_type": "execute_result",
          "data": {
            "text/html": [
              "<div>\n",
              "<style scoped>\n",
              "    .dataframe tbody tr th:only-of-type {\n",
              "        vertical-align: middle;\n",
              "    }\n",
              "\n",
              "    .dataframe tbody tr th {\n",
              "        vertical-align: top;\n",
              "    }\n",
              "\n",
              "    .dataframe thead th {\n",
              "        text-align: right;\n",
              "    }\n",
              "</style>\n",
              "<table border=\"1\" class=\"dataframe\">\n",
              "  <thead>\n",
              "    <tr style=\"text-align: right;\">\n",
              "      <th></th>\n",
              "      <th>id</th>\n",
              "      <th>PRODUCT_ID</th>\n",
              "      <th>BULLET_POINTS</th>\n",
              "    </tr>\n",
              "  </thead>\n",
              "  <tbody>\n",
              "    <tr>\n",
              "      <th>0</th>\n",
              "      <td>488</td>\n",
              "      <td>513</td>\n",
              "      <td>material premium class silicone cover compatib...</td>\n",
              "    </tr>\n",
              "    <tr>\n",
              "      <th>1</th>\n",
              "      <td>9116</td>\n",
              "      <td>9704</td>\n",
              "      <td>ferrero rocher chocolate message card bouquet ...</td>\n",
              "    </tr>\n",
              "    <tr>\n",
              "      <th>2</th>\n",
              "      <td>12435</td>\n",
              "      <td>13257</td>\n",
              "      <td>designer case samsung galaxy on7 prime/galaxy ...</td>\n",
              "    </tr>\n",
              "    <tr>\n",
              "      <th>3</th>\n",
              "      <td>13185</td>\n",
              "      <td>14044</td>\n",
              "      <td>samsung galaxy j7 prime octa-core processor ra...</td>\n",
              "    </tr>\n",
              "    <tr>\n",
              "      <th>4</th>\n",
              "      <td>14911</td>\n",
              "      <td>15879</td>\n",
              "      <td>designer case samsung galaxy on7 prime/galaxy ...</td>\n",
              "    </tr>\n",
              "  </tbody>\n",
              "</table>\n",
              "</div>"
            ],
            "text/plain": [
              "      id  PRODUCT_ID                                      BULLET_POINTS\n",
              "0    488         513  material premium class silicone cover compatib...\n",
              "1   9116        9704  ferrero rocher chocolate message card bouquet ...\n",
              "2  12435       13257  designer case samsung galaxy on7 prime/galaxy ...\n",
              "3  13185       14044  samsung galaxy j7 prime octa-core processor ra...\n",
              "4  14911       15879  designer case samsung galaxy on7 prime/galaxy ..."
            ]
          },
          "metadata": {
            "tags": []
          },
          "execution_count": 3
        }
      ]
    },
    {
      "cell_type": "code",
      "metadata": {
        "id": "OJ7X3TEgqHkC",
        "colab": {
          "base_uri": "https://localhost:8080/"
        },
        "outputId": "352d975d-2f46-424b-fbe7-396ea5bd26f8"
      },
      "source": [
        "for row in df.iterrows():\n",
        "  print(row[1][2])\n",
        "  print('*********************************')"
      ],
      "execution_count": null,
      "outputs": [
        {
          "output_type": "stream",
          "text": [
            "material premium class silicone cover compatible device samsung galaxy j7 max color multi-coloured silicon maximum protection phone easy installation removal \n",
            "*********************************\n",
            "ferrero rocher chocolate message card bouquet teddy bear cellophane wrap laxmi \n",
            "*********************************\n",
            "designer case samsung galaxy on7 prime/galaxy nxt/galaxy j7 prime sm-g610f/galaxy definitive fit maximum protection slim protective trendy impressive shockproof ultra light strong polymer hard protect shocks thin device everyday tear impact resistant one-piece rear shell pocket bag instant phone access \n",
            "*********************************\n",
            "samsung galaxy j7 prime octa-core processor ram non removable battery phone internal storage microsd card \n",
            "*********************************\n",
            "designer case samsung galaxy on7 prime/galaxy nxt/galaxy j7 prime sm-g610f/galaxy definitive fit maximum protection slim protective trendy impressive shockproof ultra light strong polymer hard protect shocks thin device everyday tear impact resistant one-piece rear shell pocket bag instant phone access \n",
            "*********************************\n",
            "product teddy bear colour yellow size cm \n",
            "*********************************\n",
            "material premium class silicone cover compatible device samsung galaxy j7 max color multi-coloured silicon maximum protection phone easy installation removal \n",
            "*********************************\n",
            "precise design luxurious case samsung galaxy j7 prime full protection phone high quality material \n",
            "*********************************\n",
            "transparent case cover samsung galaxy j7 \n",
            "*********************************\n",
            "material rakhi thread velvet whistel kumkum chawal brother kids teddy bear keychain variations design subject availability \n",
            "*********************************\n",
            "cover absorbs impact form drops bumps shocks case compatible samsung j7 strong stunning design amazing features \n",
            "*********************************\n",
            "teddy bear neck bow colour ft \n",
            "*********************************\n",
            "full body glass screen protector edge scratch round hd view samsung galaxy j7 prime \n",
            "*********************************\n",
            "wall charger micro usb data cable samsung galaxy j7 prime white \n",
            "*********************************\n",
            "samsung redmi mi compatible wireless ear headphones j7 galaxy s8 c9 pro on7 prime j8 note mic \n",
            "*********************************\n",
            "android usb data cable samsung galaxy j7 white \n",
            "*********************************\n",
            "protective body cover case galaxy j7 max gold \n",
            "*********************************\n",
            "j7 sky pro v case prime perx wallet samsung halo pu leather tekcoo credit card slots folio flip cover detachable magnetic kickstand rgold compatible galaxy perx/samsung \n",
            "*********************************\n",
            "yashoda son krishna case cover samsung j7 nxt j701f/ds india neo latam core philippines edition \n",
            "*********************************\n",
            "'adtronics galaxy j7 high speed universal usb power adapter/wall charger android micro cable \n",
            "*********************************\n"
          ],
          "name": "stdout"
        }
      ]
    },
    {
      "cell_type": "markdown",
      "metadata": {
        "id": "hPJROVAU7sMs"
      },
      "source": [
        "## TFIDF"
      ]
    },
    {
      "cell_type": "code",
      "metadata": {
        "id": "o1U8UqSxqHr5"
      },
      "source": [
        "from sklearn.feature_extraction.text import TfidfVectorizer"
      ],
      "execution_count": null,
      "outputs": []
    },
    {
      "cell_type": "code",
      "metadata": {
        "id": "IWV2mtTgqHsj"
      },
      "source": [
        "sentences = []\n",
        "for i in range(df.shape[0]):\n",
        "  sentences.append(df.iloc[i]['BULLET_POINTS'])\n"
      ],
      "execution_count": null,
      "outputs": []
    },
    {
      "cell_type": "code",
      "metadata": {
        "id": "_Y7dOml7qHtb",
        "colab": {
          "base_uri": "https://localhost:8080/"
        },
        "outputId": "8a006d24-bdb1-445b-f140-4e4c0253c579"
      },
      "source": [
        "sentences"
      ],
      "execution_count": null,
      "outputs": [
        {
          "output_type": "execute_result",
          "data": {
            "text/plain": [
              "['material premium class silicone cover compatible device samsung galaxy j7 max color multi-coloured silicon maximum protection phone easy installation removal ',\n",
              " 'ferrero rocher chocolate message card bouquet teddy bear cellophane wrap laxmi ',\n",
              " 'designer case samsung galaxy on7 prime/galaxy nxt/galaxy j7 prime sm-g610f/galaxy definitive fit maximum protection slim protective trendy impressive shockproof ultra light strong polymer hard protect shocks thin device everyday tear impact resistant one-piece rear shell pocket bag instant phone access ',\n",
              " 'samsung galaxy j7 prime octa-core processor ram non removable battery phone internal storage microsd card ',\n",
              " 'designer case samsung galaxy on7 prime/galaxy nxt/galaxy j7 prime sm-g610f/galaxy definitive fit maximum protection slim protective trendy impressive shockproof ultra light strong polymer hard protect shocks thin device everyday tear impact resistant one-piece rear shell pocket bag instant phone access ',\n",
              " 'product teddy bear colour yellow size cm ',\n",
              " 'material premium class silicone cover compatible device samsung galaxy j7 max color multi-coloured silicon maximum protection phone easy installation removal ',\n",
              " 'precise design luxurious case samsung galaxy j7 prime full protection phone high quality material ',\n",
              " 'transparent case cover samsung galaxy j7 ',\n",
              " 'material rakhi thread velvet whistel kumkum chawal brother kids teddy bear keychain variations design subject availability ',\n",
              " 'cover absorbs impact form drops bumps shocks case compatible samsung j7 strong stunning design amazing features ',\n",
              " 'teddy bear neck bow colour ft ',\n",
              " 'full body glass screen protector edge scratch round hd view samsung galaxy j7 prime ',\n",
              " 'wall charger micro usb data cable samsung galaxy j7 prime white ',\n",
              " 'samsung redmi mi compatible wireless ear headphones j7 galaxy s8 c9 pro on7 prime j8 note mic ',\n",
              " 'android usb data cable samsung galaxy j7 white ',\n",
              " 'protective body cover case galaxy j7 max gold ',\n",
              " 'j7 sky pro v case prime perx wallet samsung halo pu leather tekcoo credit card slots folio flip cover detachable magnetic kickstand rgold compatible galaxy perx/samsung ',\n",
              " 'yashoda son krishna case cover samsung j7 nxt j701f/ds india neo latam core philippines edition ',\n",
              " \"'adtronics galaxy j7 high speed universal usb power adapter/wall charger android micro cable \"]"
            ]
          },
          "metadata": {
            "tags": []
          },
          "execution_count": 62
        }
      ]
    },
    {
      "cell_type": "code",
      "metadata": {
        "id": "imiRUY2qqHuK"
      },
      "source": [
        "vectorizer = TfidfVectorizer()\n",
        "sentences_vectorized = vectorizer.fit_transform(sentences)"
      ],
      "execution_count": null,
      "outputs": []
    },
    {
      "cell_type": "code",
      "metadata": {
        "id": "fCBZlKQRqHu7",
        "colab": {
          "base_uri": "https://localhost:8080/"
        },
        "outputId": "bf9eac65-e329-4004-8180-c7195503a016"
      },
      "source": [
        "sentences_vectorized.toarray()"
      ],
      "execution_count": null,
      "outputs": [
        {
          "output_type": "execute_result",
          "data": {
            "text/plain": [
              "array([[0.        , 0.        , 0.        , ..., 0.        , 0.        ,\n",
              "        0.        ],\n",
              "       [0.        , 0.        , 0.        , ..., 0.32132918, 0.        ,\n",
              "        0.        ],\n",
              "       [0.        , 0.1601729 , 0.        , ..., 0.        , 0.        ,\n",
              "        0.        ],\n",
              "       ...,\n",
              "       [0.        , 0.        , 0.        , ..., 0.        , 0.        ,\n",
              "        0.        ],\n",
              "       [0.        , 0.        , 0.        , ..., 0.        , 0.28468092,\n",
              "        0.        ],\n",
              "       [0.        , 0.        , 0.30991914, ..., 0.        , 0.        ,\n",
              "        0.        ]])"
            ]
          },
          "metadata": {
            "tags": []
          },
          "execution_count": 64
        }
      ]
    },
    {
      "cell_type": "markdown",
      "metadata": {
        "id": "8mj9i1ie7nsI"
      },
      "source": [
        "## Word2vec"
      ]
    },
    {
      "cell_type": "code",
      "metadata": {
        "id": "VeLdq5otqHvp"
      },
      "source": [
        "from gensim.models import word2vec"
      ],
      "execution_count": null,
      "outputs": []
    },
    {
      "cell_type": "code",
      "metadata": {
        "id": "isrCRxa8qHwX"
      },
      "source": [
        "model = word2vec.Word2Vec(sentences)"
      ],
      "execution_count": null,
      "outputs": []
    },
    {
      "cell_type": "code",
      "metadata": {
        "id": "CdypWC5sqHx6",
        "colab": {
          "base_uri": "https://localhost:8080/"
        },
        "outputId": "c4710d35-a8d1-4850-9332-441bcce364bc"
      },
      "source": [
        "model.wv.vocab.keys()"
      ],
      "execution_count": null,
      "outputs": [
        {
          "output_type": "execute_result",
          "data": {
            "text/plain": [
              "dict_keys(['m', 'a', 't', 'e', 'r', 'i', 'l', ' ', 'p', 'u', 'c', 's', 'o', 'n', 'v', 'b', 'd', 'g', 'x', 'y', 'j', '7', '-', 'h', 'f', 'w', '/', 'k'])"
            ]
          },
          "metadata": {
            "tags": []
          },
          "execution_count": 27
        }
      ]
    },
    {
      "cell_type": "code",
      "metadata": {
        "id": "pFnLUWTAqHym"
      },
      "source": [
        "for i, sentence in enumerate(sentences):\n",
        "  tokenized=[]\n",
        "  for word in sentence.split(' '):\n",
        "    if word=='':\n",
        "      continue\n",
        "    tokenized.append(word)\n",
        "  sentences[i] = tokenized"
      ],
      "execution_count": null,
      "outputs": []
    },
    {
      "cell_type": "code",
      "metadata": {
        "colab": {
          "base_uri": "https://localhost:8080/"
        },
        "id": "mVQZ93h6x74A",
        "outputId": "160b0146-e1d3-49ee-a1db-ee2ce9e5701c"
      },
      "source": [
        "sentences"
      ],
      "execution_count": null,
      "outputs": [
        {
          "output_type": "execute_result",
          "data": {
            "text/plain": [
              "[['material',\n",
              "  'premium',\n",
              "  'class',\n",
              "  'silicone',\n",
              "  'cover',\n",
              "  'compatible',\n",
              "  'device',\n",
              "  'samsung',\n",
              "  'galaxy',\n",
              "  'j7',\n",
              "  'max',\n",
              "  'color',\n",
              "  'multi-coloured',\n",
              "  'silicon',\n",
              "  'maximum',\n",
              "  'protection',\n",
              "  'phone',\n",
              "  'easy',\n",
              "  'installation',\n",
              "  'removal'],\n",
              " ['ferrero',\n",
              "  'rocher',\n",
              "  'chocolate',\n",
              "  'message',\n",
              "  'card',\n",
              "  'bouquet',\n",
              "  'teddy',\n",
              "  'bear',\n",
              "  'cellophane',\n",
              "  'wrap',\n",
              "  'laxmi'],\n",
              " ['designer',\n",
              "  'case',\n",
              "  'samsung',\n",
              "  'galaxy',\n",
              "  'on7',\n",
              "  'prime/galaxy',\n",
              "  'nxt/galaxy',\n",
              "  'j7',\n",
              "  'prime',\n",
              "  'sm-g610f/galaxy',\n",
              "  'definitive',\n",
              "  'fit',\n",
              "  'maximum',\n",
              "  'protection',\n",
              "  'slim',\n",
              "  'protective',\n",
              "  'trendy',\n",
              "  'impressive',\n",
              "  'shockproof',\n",
              "  'ultra',\n",
              "  'light',\n",
              "  'strong',\n",
              "  'polymer',\n",
              "  'hard',\n",
              "  'protect',\n",
              "  'shocks',\n",
              "  'thin',\n",
              "  'device',\n",
              "  'everyday',\n",
              "  'tear',\n",
              "  'impact',\n",
              "  'resistant',\n",
              "  'one-piece',\n",
              "  'rear',\n",
              "  'shell',\n",
              "  'pocket',\n",
              "  'bag',\n",
              "  'instant',\n",
              "  'phone',\n",
              "  'access'],\n",
              " ['samsung',\n",
              "  'galaxy',\n",
              "  'j7',\n",
              "  'prime',\n",
              "  'octa-core',\n",
              "  'processor',\n",
              "  'ram',\n",
              "  'non',\n",
              "  'removable',\n",
              "  'battery',\n",
              "  'phone',\n",
              "  'internal',\n",
              "  'storage',\n",
              "  'microsd',\n",
              "  'card'],\n",
              " ['designer',\n",
              "  'case',\n",
              "  'samsung',\n",
              "  'galaxy',\n",
              "  'on7',\n",
              "  'prime/galaxy',\n",
              "  'nxt/galaxy',\n",
              "  'j7',\n",
              "  'prime',\n",
              "  'sm-g610f/galaxy',\n",
              "  'definitive',\n",
              "  'fit',\n",
              "  'maximum',\n",
              "  'protection',\n",
              "  'slim',\n",
              "  'protective',\n",
              "  'trendy',\n",
              "  'impressive',\n",
              "  'shockproof',\n",
              "  'ultra',\n",
              "  'light',\n",
              "  'strong',\n",
              "  'polymer',\n",
              "  'hard',\n",
              "  'protect',\n",
              "  'shocks',\n",
              "  'thin',\n",
              "  'device',\n",
              "  'everyday',\n",
              "  'tear',\n",
              "  'impact',\n",
              "  'resistant',\n",
              "  'one-piece',\n",
              "  'rear',\n",
              "  'shell',\n",
              "  'pocket',\n",
              "  'bag',\n",
              "  'instant',\n",
              "  'phone',\n",
              "  'access'],\n",
              " ['product', 'teddy', 'bear', 'colour', 'yellow', 'size', 'cm'],\n",
              " ['material',\n",
              "  'premium',\n",
              "  'class',\n",
              "  'silicone',\n",
              "  'cover',\n",
              "  'compatible',\n",
              "  'device',\n",
              "  'samsung',\n",
              "  'galaxy',\n",
              "  'j7',\n",
              "  'max',\n",
              "  'color',\n",
              "  'multi-coloured',\n",
              "  'silicon',\n",
              "  'maximum',\n",
              "  'protection',\n",
              "  'phone',\n",
              "  'easy',\n",
              "  'installation',\n",
              "  'removal'],\n",
              " ['precise',\n",
              "  'design',\n",
              "  'luxurious',\n",
              "  'case',\n",
              "  'samsung',\n",
              "  'galaxy',\n",
              "  'j7',\n",
              "  'prime',\n",
              "  'full',\n",
              "  'protection',\n",
              "  'phone',\n",
              "  'high',\n",
              "  'quality',\n",
              "  'material'],\n",
              " ['transparent', 'case', 'cover', 'samsung', 'galaxy', 'j7'],\n",
              " ['material',\n",
              "  'rakhi',\n",
              "  'thread',\n",
              "  'velvet',\n",
              "  'whistel',\n",
              "  'kumkum',\n",
              "  'chawal',\n",
              "  'brother',\n",
              "  'kids',\n",
              "  'teddy',\n",
              "  'bear',\n",
              "  'keychain',\n",
              "  'variations',\n",
              "  'design',\n",
              "  'subject',\n",
              "  'availability'],\n",
              " ['cover',\n",
              "  'absorbs',\n",
              "  'impact',\n",
              "  'form',\n",
              "  'drops',\n",
              "  'bumps',\n",
              "  'shocks',\n",
              "  'case',\n",
              "  'compatible',\n",
              "  'samsung',\n",
              "  'j7',\n",
              "  'strong',\n",
              "  'stunning',\n",
              "  'design',\n",
              "  'amazing',\n",
              "  'features'],\n",
              " ['teddy', 'bear', 'neck', 'bow', 'colour', 'ft'],\n",
              " ['full',\n",
              "  'body',\n",
              "  'glass',\n",
              "  'screen',\n",
              "  'protector',\n",
              "  'edge',\n",
              "  'scratch',\n",
              "  'round',\n",
              "  'hd',\n",
              "  'view',\n",
              "  'samsung',\n",
              "  'galaxy',\n",
              "  'j7',\n",
              "  'prime'],\n",
              " ['wall',\n",
              "  'charger',\n",
              "  'micro',\n",
              "  'usb',\n",
              "  'data',\n",
              "  'cable',\n",
              "  'samsung',\n",
              "  'galaxy',\n",
              "  'j7',\n",
              "  'prime',\n",
              "  'white'],\n",
              " ['samsung',\n",
              "  'redmi',\n",
              "  'mi',\n",
              "  'compatible',\n",
              "  'wireless',\n",
              "  'ear',\n",
              "  'headphones',\n",
              "  'j7',\n",
              "  'galaxy',\n",
              "  's8',\n",
              "  'c9',\n",
              "  'pro',\n",
              "  'on7',\n",
              "  'prime',\n",
              "  'j8',\n",
              "  'note',\n",
              "  'mic'],\n",
              " ['android', 'usb', 'data', 'cable', 'samsung', 'galaxy', 'j7', 'white'],\n",
              " ['protective', 'body', 'cover', 'case', 'galaxy', 'j7', 'max', 'gold'],\n",
              " ['j7',\n",
              "  'sky',\n",
              "  'pro',\n",
              "  'v',\n",
              "  'case',\n",
              "  'prime',\n",
              "  'perx',\n",
              "  'wallet',\n",
              "  'samsung',\n",
              "  'halo',\n",
              "  'pu',\n",
              "  'leather',\n",
              "  'tekcoo',\n",
              "  'credit',\n",
              "  'card',\n",
              "  'slots',\n",
              "  'folio',\n",
              "  'flip',\n",
              "  'cover',\n",
              "  'detachable',\n",
              "  'magnetic',\n",
              "  'kickstand',\n",
              "  'rgold',\n",
              "  'compatible',\n",
              "  'galaxy',\n",
              "  'perx/samsung'],\n",
              " ['yashoda',\n",
              "  'son',\n",
              "  'krishna',\n",
              "  'case',\n",
              "  'cover',\n",
              "  'samsung',\n",
              "  'j7',\n",
              "  'nxt',\n",
              "  'j701f/ds',\n",
              "  'india',\n",
              "  'neo',\n",
              "  'latam',\n",
              "  'core',\n",
              "  'philippines',\n",
              "  'edition'],\n",
              " [\"'adtronics\",\n",
              "  'galaxy',\n",
              "  'j7',\n",
              "  'high',\n",
              "  'speed',\n",
              "  'universal',\n",
              "  'usb',\n",
              "  'power',\n",
              "  'adapter/wall',\n",
              "  'charger',\n",
              "  'android',\n",
              "  'micro',\n",
              "  'cable']]"
            ]
          },
          "metadata": {
            "tags": []
          },
          "execution_count": 66
        }
      ]
    },
    {
      "cell_type": "code",
      "metadata": {
        "id": "9Ly5XXEw0reU"
      },
      "source": [
        "model = word2vec.Word2Vec(sentences,window=10,max_vocab_size=100,iter=100)"
      ],
      "execution_count": null,
      "outputs": []
    },
    {
      "cell_type": "code",
      "metadata": {
        "colab": {
          "base_uri": "https://localhost:8080/"
        },
        "id": "-W4e76EH0vb7",
        "outputId": "f90139fb-e5b6-4c0d-dd08-59ac764adb2e"
      },
      "source": [
        "model.wv.vocab"
      ],
      "execution_count": null,
      "outputs": [
        {
          "output_type": "execute_result",
          "data": {
            "text/plain": [
              "{'case': <gensim.models.keyedvectors.Vocab at 0x7fc57587a390>,\n",
              " 'compatible': <gensim.models.keyedvectors.Vocab at 0x7fc57587a190>,\n",
              " 'cover': <gensim.models.keyedvectors.Vocab at 0x7fc57587a150>,\n",
              " 'galaxy': <gensim.models.keyedvectors.Vocab at 0x7fc57587a210>,\n",
              " 'j7': <gensim.models.keyedvectors.Vocab at 0x7fc57587a290>,\n",
              " 'phone': <gensim.models.keyedvectors.Vocab at 0x7fc57587a350>,\n",
              " 'prime': <gensim.models.keyedvectors.Vocab at 0x7fc57587a250>,\n",
              " 'protection': <gensim.models.keyedvectors.Vocab at 0x7fc57587a310>,\n",
              " 'samsung': <gensim.models.keyedvectors.Vocab at 0x7fc57587a1d0>}"
            ]
          },
          "metadata": {
            "tags": []
          },
          "execution_count": 68
        }
      ]
    },
    {
      "cell_type": "code",
      "metadata": {
        "colab": {
          "base_uri": "https://localhost:8080/"
        },
        "id": "Ivhd4v2H0vj3",
        "outputId": "c43b0a0f-65af-47bb-c2cb-30271f3acdc1"
      },
      "source": [
        "model.wv['j7']"
      ],
      "execution_count": null,
      "outputs": [
        {
          "output_type": "execute_result",
          "data": {
            "text/plain": [
              "array([-2.9282363e-03,  4.8921299e-03,  2.8023999e-03,  2.8085483e-03,\n",
              "       -1.1333256e-03, -3.1712966e-04,  6.4605125e-04,  2.5961702e-03,\n",
              "        5.9721316e-03, -6.0241125e-03,  1.6388861e-03, -3.3461144e-03,\n",
              "       -4.0851063e-03,  7.8770617e-04, -2.7086008e-03,  5.8149043e-03,\n",
              "        5.5384496e-03,  1.4791493e-03,  8.2827751e-03,  1.0690368e-03,\n",
              "       -2.5217389e-03, -4.0897592e-03,  1.3146764e-03, -1.4555649e-03,\n",
              "        4.8040347e-03,  3.5720693e-03,  2.4325859e-03,  6.0524401e-04,\n",
              "       -7.5191464e-03, -3.4525441e-03, -1.6709493e-03, -2.0385229e-03,\n",
              "        7.4362350e-03,  4.3365811e-03,  1.3723829e-03, -4.4232067e-03,\n",
              "       -4.1790958e-03, -3.9356081e-03, -1.5486235e-03, -4.7299070e-03,\n",
              "       -2.9524500e-04,  5.3217966e-05,  9.8335824e-04,  4.4010086e-03,\n",
              "       -2.1115034e-03,  3.6514506e-03,  2.9426867e-03, -4.1196332e-03,\n",
              "        3.2707979e-03, -2.9679500e-03,  2.9316579e-03,  5.1696612e-03,\n",
              "       -3.9984998e-03, -2.4369911e-03,  5.9382962e-03, -4.5033973e-03,\n",
              "       -3.8884282e-03,  1.7297267e-03,  6.4392942e-03, -3.6417961e-03,\n",
              "       -4.4886405e-03,  5.3705908e-03, -7.6081365e-04, -1.8792545e-03,\n",
              "        1.3913701e-03,  3.5555712e-03, -2.9846344e-03, -3.2651350e-03,\n",
              "       -3.6048077e-03,  1.3368754e-03, -5.9189489e-03,  4.2740148e-03,\n",
              "        1.3941136e-03, -3.2155206e-03, -1.8515530e-03,  2.1680898e-03,\n",
              "        1.9308362e-03,  5.5996241e-04,  5.8736745e-03,  1.6484069e-04,\n",
              "       -7.1664900e-03, -4.9696574e-03, -3.5290064e-03,  3.9747818e-03,\n",
              "       -4.4620275e-03, -1.2339291e-03, -1.6415996e-03,  4.7253240e-03,\n",
              "        2.8646612e-03, -1.4184702e-03,  4.5133070e-03, -3.9768332e-04,\n",
              "        3.2317010e-03, -4.6540173e-03, -7.4681034e-04, -1.2033681e-03,\n",
              "       -5.3904201e-03,  2.3068250e-03,  5.0451397e-03, -4.4802381e-03],\n",
              "      dtype=float32)"
            ]
          },
          "metadata": {
            "tags": []
          },
          "execution_count": 58
        }
      ]
    },
    {
      "cell_type": "code",
      "metadata": {
        "id": "j5FzP-il0voM"
      },
      "source": [
        ""
      ],
      "execution_count": null,
      "outputs": []
    },
    {
      "cell_type": "markdown",
      "metadata": {
        "id": "OLhHaNBY7xGu"
      },
      "source": [
        "## DOC2VEC"
      ]
    },
    {
      "cell_type": "code",
      "metadata": {
        "colab": {
          "base_uri": "https://localhost:8080/"
        },
        "id": "hlUrPWgw7xcK",
        "outputId": "8fe7b6d7-dfea-4d6f-b2ad-5482ad079be9"
      },
      "source": [
        "from gensim.models.doc2vec import Doc2Vec, TaggedDocument\n",
        "tagged_data = [TaggedDocument(d, [i]) for i, d in enumerate(sentences)]\n",
        "tagged_data"
      ],
      "execution_count": null,
      "outputs": [
        {
          "output_type": "execute_result",
          "data": {
            "text/plain": [
              "[TaggedDocument(words=['material', 'premium', 'class', 'silicone', 'cover', 'compatible', 'device', 'samsung', 'galaxy', 'j7', 'max', 'color', 'multi-coloured', 'silicon', 'maximum', 'protection', 'phone', 'easy', 'installation', 'removal'], tags=[0]),\n",
              " TaggedDocument(words=['ferrero', 'rocher', 'chocolate', 'message', 'card', 'bouquet', 'teddy', 'bear', 'cellophane', 'wrap', 'laxmi'], tags=[1]),\n",
              " TaggedDocument(words=['designer', 'case', 'samsung', 'galaxy', 'on7', 'prime/galaxy', 'nxt/galaxy', 'j7', 'prime', 'sm-g610f/galaxy', 'definitive', 'fit', 'maximum', 'protection', 'slim', 'protective', 'trendy', 'impressive', 'shockproof', 'ultra', 'light', 'strong', 'polymer', 'hard', 'protect', 'shocks', 'thin', 'device', 'everyday', 'tear', 'impact', 'resistant', 'one-piece', 'rear', 'shell', 'pocket', 'bag', 'instant', 'phone', 'access'], tags=[2]),\n",
              " TaggedDocument(words=['samsung', 'galaxy', 'j7', 'prime', 'octa-core', 'processor', 'ram', 'non', 'removable', 'battery', 'phone', 'internal', 'storage', 'microsd', 'card'], tags=[3]),\n",
              " TaggedDocument(words=['designer', 'case', 'samsung', 'galaxy', 'on7', 'prime/galaxy', 'nxt/galaxy', 'j7', 'prime', 'sm-g610f/galaxy', 'definitive', 'fit', 'maximum', 'protection', 'slim', 'protective', 'trendy', 'impressive', 'shockproof', 'ultra', 'light', 'strong', 'polymer', 'hard', 'protect', 'shocks', 'thin', 'device', 'everyday', 'tear', 'impact', 'resistant', 'one-piece', 'rear', 'shell', 'pocket', 'bag', 'instant', 'phone', 'access'], tags=[4]),\n",
              " TaggedDocument(words=['product', 'teddy', 'bear', 'colour', 'yellow', 'size', 'cm'], tags=[5]),\n",
              " TaggedDocument(words=['material', 'premium', 'class', 'silicone', 'cover', 'compatible', 'device', 'samsung', 'galaxy', 'j7', 'max', 'color', 'multi-coloured', 'silicon', 'maximum', 'protection', 'phone', 'easy', 'installation', 'removal'], tags=[6]),\n",
              " TaggedDocument(words=['precise', 'design', 'luxurious', 'case', 'samsung', 'galaxy', 'j7', 'prime', 'full', 'protection', 'phone', 'high', 'quality', 'material'], tags=[7]),\n",
              " TaggedDocument(words=['transparent', 'case', 'cover', 'samsung', 'galaxy', 'j7'], tags=[8]),\n",
              " TaggedDocument(words=['material', 'rakhi', 'thread', 'velvet', 'whistel', 'kumkum', 'chawal', 'brother', 'kids', 'teddy', 'bear', 'keychain', 'variations', 'design', 'subject', 'availability'], tags=[9]),\n",
              " TaggedDocument(words=['cover', 'absorbs', 'impact', 'form', 'drops', 'bumps', 'shocks', 'case', 'compatible', 'samsung', 'j7', 'strong', 'stunning', 'design', 'amazing', 'features'], tags=[10]),\n",
              " TaggedDocument(words=['teddy', 'bear', 'neck', 'bow', 'colour', 'ft'], tags=[11]),\n",
              " TaggedDocument(words=['full', 'body', 'glass', 'screen', 'protector', 'edge', 'scratch', 'round', 'hd', 'view', 'samsung', 'galaxy', 'j7', 'prime'], tags=[12]),\n",
              " TaggedDocument(words=['wall', 'charger', 'micro', 'usb', 'data', 'cable', 'samsung', 'galaxy', 'j7', 'prime', 'white'], tags=[13]),\n",
              " TaggedDocument(words=['samsung', 'redmi', 'mi', 'compatible', 'wireless', 'ear', 'headphones', 'j7', 'galaxy', 's8', 'c9', 'pro', 'on7', 'prime', 'j8', 'note', 'mic'], tags=[14]),\n",
              " TaggedDocument(words=['android', 'usb', 'data', 'cable', 'samsung', 'galaxy', 'j7', 'white'], tags=[15]),\n",
              " TaggedDocument(words=['protective', 'body', 'cover', 'case', 'galaxy', 'j7', 'max', 'gold'], tags=[16]),\n",
              " TaggedDocument(words=['j7', 'sky', 'pro', 'v', 'case', 'prime', 'perx', 'wallet', 'samsung', 'halo', 'pu', 'leather', 'tekcoo', 'credit', 'card', 'slots', 'folio', 'flip', 'cover', 'detachable', 'magnetic', 'kickstand', 'rgold', 'compatible', 'galaxy', 'perx/samsung'], tags=[17]),\n",
              " TaggedDocument(words=['yashoda', 'son', 'krishna', 'case', 'cover', 'samsung', 'j7', 'nxt', 'j701f/ds', 'india', 'neo', 'latam', 'core', 'philippines', 'edition'], tags=[18]),\n",
              " TaggedDocument(words=[\"'adtronics\", 'galaxy', 'j7', 'high', 'speed', 'universal', 'usb', 'power', 'adapter/wall', 'charger', 'android', 'micro', 'cable'], tags=[19])]"
            ]
          },
          "metadata": {
            "tags": []
          },
          "execution_count": 69
        }
      ]
    },
    {
      "cell_type": "code",
      "metadata": {
        "colab": {
          "base_uri": "https://localhost:8080/"
        },
        "id": "Hk2jObky8f6o",
        "outputId": "1cd8882b-aff0-4646-e6ab-f51678f1a88b"
      },
      "source": [
        "model = Doc2Vec(tagged_data, vector_size = 20, window = 2, min_count = 1,, epochs = 100)\n",
        "\n",
        "'''\n",
        "vector_size = Dimensionality of the feature vectors.\n",
        "window = The maximum distance between the current and predicted word within a sentence.\n",
        "min_count = Ignores all words with total frequency lower than this.\n",
        "alpha = The initial learning rate.\n",
        "'''\n",
        "\n",
        "## Print model vocabulary\n",
        "model.wv.vocab"
      ],
      "execution_count": null,
      "outputs": [
        {
          "output_type": "execute_result",
          "data": {
            "text/plain": [
              "{\"'adtronics\": <gensim.models.keyedvectors.Vocab at 0x7fc57587a650>,\n",
              " 'absorbs': <gensim.models.keyedvectors.Vocab at 0x7fc5778aa7d0>,\n",
              " 'access': <gensim.models.keyedvectors.Vocab at 0x7fc5778aaad0>,\n",
              " 'adapter/wall': <gensim.models.keyedvectors.Vocab at 0x7fc57587aa90>,\n",
              " 'amazing': <gensim.models.keyedvectors.Vocab at 0x7fc57585e610>,\n",
              " 'android': <gensim.models.keyedvectors.Vocab at 0x7fc57587a750>,\n",
              " 'availability': <gensim.models.keyedvectors.Vocab at 0x7fc5778aaa10>,\n",
              " 'bag': <gensim.models.keyedvectors.Vocab at 0x7fc5778aa390>,\n",
              " 'battery': <gensim.models.keyedvectors.Vocab at 0x7fc5778aaf90>,\n",
              " 'bear': <gensim.models.keyedvectors.Vocab at 0x7fc575874090>,\n",
              " 'body': <gensim.models.keyedvectors.Vocab at 0x7fc57585ec10>,\n",
              " 'bouquet': <gensim.models.keyedvectors.Vocab at 0x7fc575874750>,\n",
              " 'bow': <gensim.models.keyedvectors.Vocab at 0x7fc57585e510>,\n",
              " 'brother': <gensim.models.keyedvectors.Vocab at 0x7fc5778aa890>,\n",
              " 'bumps': <gensim.models.keyedvectors.Vocab at 0x7fc5778aa510>,\n",
              " 'c9': <gensim.models.keyedvectors.Vocab at 0x7fc57587a510>,\n",
              " 'cable': <gensim.models.keyedvectors.Vocab at 0x7fc57585e710>,\n",
              " 'card': <gensim.models.keyedvectors.Vocab at 0x7fc577a341d0>,\n",
              " 'case': <gensim.models.keyedvectors.Vocab at 0x7fc575874dd0>,\n",
              " 'cellophane': <gensim.models.keyedvectors.Vocab at 0x7fc575874c90>,\n",
              " 'charger': <gensim.models.keyedvectors.Vocab at 0x7fc57585e110>,\n",
              " 'chawal': <gensim.models.keyedvectors.Vocab at 0x7fc5778aae50>,\n",
              " 'chocolate': <gensim.models.keyedvectors.Vocab at 0x7fc5778f8f50>,\n",
              " 'class': <gensim.models.keyedvectors.Vocab at 0x7fc57584dad0>,\n",
              " 'cm': <gensim.models.keyedvectors.Vocab at 0x7fc5778aa550>,\n",
              " 'color': <gensim.models.keyedvectors.Vocab at 0x7fc57584de50>,\n",
              " 'colour': <gensim.models.keyedvectors.Vocab at 0x7fc5778aab10>,\n",
              " 'compatible': <gensim.models.keyedvectors.Vocab at 0x7fc57584db50>,\n",
              " 'core': <gensim.models.keyedvectors.Vocab at 0x7fc57587a550>,\n",
              " 'cover': <gensim.models.keyedvectors.Vocab at 0x7fc57584db90>,\n",
              " 'credit': <gensim.models.keyedvectors.Vocab at 0x7fc57587ac10>,\n",
              " 'data': <gensim.models.keyedvectors.Vocab at 0x7fc57585e790>,\n",
              " 'definitive': <gensim.models.keyedvectors.Vocab at 0x7fc5758746d0>,\n",
              " 'design': <gensim.models.keyedvectors.Vocab at 0x7fc5778aa090>,\n",
              " 'designer': <gensim.models.keyedvectors.Vocab at 0x7fc5758740d0>,\n",
              " 'detachable': <gensim.models.keyedvectors.Vocab at 0x7fc57587a2d0>,\n",
              " 'device': <gensim.models.keyedvectors.Vocab at 0x7fc57584d910>,\n",
              " 'drops': <gensim.models.keyedvectors.Vocab at 0x7fc5778aaf10>,\n",
              " 'ear': <gensim.models.keyedvectors.Vocab at 0x7fc577a6a210>,\n",
              " 'easy': <gensim.models.keyedvectors.Vocab at 0x7fc57584d210>,\n",
              " 'edge': <gensim.models.keyedvectors.Vocab at 0x7fc57585e690>,\n",
              " 'edition': <gensim.models.keyedvectors.Vocab at 0x7fc57587afd0>,\n",
              " 'everyday': <gensim.models.keyedvectors.Vocab at 0x7fc575874490>,\n",
              " 'features': <gensim.models.keyedvectors.Vocab at 0x7fc57585e210>,\n",
              " 'ferrero': <gensim.models.keyedvectors.Vocab at 0x7fc57584d7d0>,\n",
              " 'fit': <gensim.models.keyedvectors.Vocab at 0x7fc575874a10>,\n",
              " 'flip': <gensim.models.keyedvectors.Vocab at 0x7fc57587ae10>,\n",
              " 'folio': <gensim.models.keyedvectors.Vocab at 0x7fc57587a710>,\n",
              " 'form': <gensim.models.keyedvectors.Vocab at 0x7fc5778aa290>,\n",
              " 'ft': <gensim.models.keyedvectors.Vocab at 0x7fc57585ed50>,\n",
              " 'full': <gensim.models.keyedvectors.Vocab at 0x7fc5778aae10>,\n",
              " 'galaxy': <gensim.models.keyedvectors.Vocab at 0x7fc57584df90>,\n",
              " 'glass': <gensim.models.keyedvectors.Vocab at 0x7fc57585e3d0>,\n",
              " 'gold': <gensim.models.keyedvectors.Vocab at 0x7fc57587a490>,\n",
              " 'halo': <gensim.models.keyedvectors.Vocab at 0x7fc57587ae90>,\n",
              " 'hard': <gensim.models.keyedvectors.Vocab at 0x7fc5758747d0>,\n",
              " 'hd': <gensim.models.keyedvectors.Vocab at 0x7fc57585e250>,\n",
              " 'headphones': <gensim.models.keyedvectors.Vocab at 0x7fc577a6a650>,\n",
              " 'high': <gensim.models.keyedvectors.Vocab at 0x7fc5778aacd0>,\n",
              " 'impact': <gensim.models.keyedvectors.Vocab at 0x7fc575874d50>,\n",
              " 'impressive': <gensim.models.keyedvectors.Vocab at 0x7fc575874910>,\n",
              " 'india': <gensim.models.keyedvectors.Vocab at 0x7fc57587a5d0>,\n",
              " 'installation': <gensim.models.keyedvectors.Vocab at 0x7fc57584d750>,\n",
              " 'instant': <gensim.models.keyedvectors.Vocab at 0x7fc5778aa9d0>,\n",
              " 'internal': <gensim.models.keyedvectors.Vocab at 0x7fc5778aa910>,\n",
              " 'j7': <gensim.models.keyedvectors.Vocab at 0x7fc57584d8d0>,\n",
              " 'j701f/ds': <gensim.models.keyedvectors.Vocab at 0x7fc57587a090>,\n",
              " 'j8': <gensim.models.keyedvectors.Vocab at 0x7fc57587a8d0>,\n",
              " 'keychain': <gensim.models.keyedvectors.Vocab at 0x7fc5778aa3d0>,\n",
              " 'kickstand': <gensim.models.keyedvectors.Vocab at 0x7fc57587a690>,\n",
              " 'kids': <gensim.models.keyedvectors.Vocab at 0x7fc5778aa850>,\n",
              " 'krishna': <gensim.models.keyedvectors.Vocab at 0x7fc57587a990>,\n",
              " 'kumkum': <gensim.models.keyedvectors.Vocab at 0x7fc5778aae90>,\n",
              " 'latam': <gensim.models.keyedvectors.Vocab at 0x7fc57587aa50>,\n",
              " 'laxmi': <gensim.models.keyedvectors.Vocab at 0x7fc575874710>,\n",
              " 'leather': <gensim.models.keyedvectors.Vocab at 0x7fc57587a6d0>,\n",
              " 'light': <gensim.models.keyedvectors.Vocab at 0x7fc575874c50>,\n",
              " 'luxurious': <gensim.models.keyedvectors.Vocab at 0x7fc5778aab90>,\n",
              " 'magnetic': <gensim.models.keyedvectors.Vocab at 0x7fc57587a9d0>,\n",
              " 'material': <gensim.models.keyedvectors.Vocab at 0x7fc57584d590>,\n",
              " 'max': <gensim.models.keyedvectors.Vocab at 0x7fc57584d6d0>,\n",
              " 'maximum': <gensim.models.keyedvectors.Vocab at 0x7fc57584dbd0>,\n",
              " 'message': <gensim.models.keyedvectors.Vocab at 0x7fc577a34350>,\n",
              " 'mi': <gensim.models.keyedvectors.Vocab at 0x7fc57585e1d0>,\n",
              " 'mic': <gensim.models.keyedvectors.Vocab at 0x7fc57587a810>,\n",
              " 'micro': <gensim.models.keyedvectors.Vocab at 0x7fc57585ef10>,\n",
              " 'microsd': <gensim.models.keyedvectors.Vocab at 0x7fc5778aa590>,\n",
              " 'multi-coloured': <gensim.models.keyedvectors.Vocab at 0x7fc57584d3d0>,\n",
              " 'neck': <gensim.models.keyedvectors.Vocab at 0x7fc57585e9d0>,\n",
              " 'neo': <gensim.models.keyedvectors.Vocab at 0x7fc57587af90>,\n",
              " 'non': <gensim.models.keyedvectors.Vocab at 0x7fc5778aa650>,\n",
              " 'note': <gensim.models.keyedvectors.Vocab at 0x7fc57587a850>,\n",
              " 'nxt': <gensim.models.keyedvectors.Vocab at 0x7fc57587a4d0>,\n",
              " 'nxt/galaxy': <gensim.models.keyedvectors.Vocab at 0x7fc575874b10>,\n",
              " 'octa-core': <gensim.models.keyedvectors.Vocab at 0x7fc5778aafd0>,\n",
              " 'on7': <gensim.models.keyedvectors.Vocab at 0x7fc575874e10>,\n",
              " 'one-piece': <gensim.models.keyedvectors.Vocab at 0x7fc575874f50>,\n",
              " 'perx': <gensim.models.keyedvectors.Vocab at 0x7fc57587af50>,\n",
              " 'perx/samsung': <gensim.models.keyedvectors.Vocab at 0x7fc57587ab50>,\n",
              " 'philippines': <gensim.models.keyedvectors.Vocab at 0x7fc57587aa10>,\n",
              " 'phone': <gensim.models.keyedvectors.Vocab at 0x7fc57584dd10>,\n",
              " 'pocket': <gensim.models.keyedvectors.Vocab at 0x7fc5778aa5d0>,\n",
              " 'polymer': <gensim.models.keyedvectors.Vocab at 0x7fc575874550>,\n",
              " 'power': <gensim.models.keyedvectors.Vocab at 0x7fc57587a910>,\n",
              " 'precise': <gensim.models.keyedvectors.Vocab at 0x7fc5778aa190>,\n",
              " 'premium': <gensim.models.keyedvectors.Vocab at 0x7fc57584dcd0>,\n",
              " 'prime': <gensim.models.keyedvectors.Vocab at 0x7fc5758749d0>,\n",
              " 'prime/galaxy': <gensim.models.keyedvectors.Vocab at 0x7fc575874810>,\n",
              " 'pro': <gensim.models.keyedvectors.Vocab at 0x7fc57587a3d0>,\n",
              " 'processor': <gensim.models.keyedvectors.Vocab at 0x7fc5778aa1d0>,\n",
              " 'product': <gensim.models.keyedvectors.Vocab at 0x7fc5778aad10>,\n",
              " 'protect': <gensim.models.keyedvectors.Vocab at 0x7fc575874050>,\n",
              " 'protection': <gensim.models.keyedvectors.Vocab at 0x7fc57584d950>,\n",
              " 'protective': <gensim.models.keyedvectors.Vocab at 0x7fc575874e50>,\n",
              " 'protector': <gensim.models.keyedvectors.Vocab at 0x7fc57585edd0>,\n",
              " 'pu': <gensim.models.keyedvectors.Vocab at 0x7fc57587a7d0>,\n",
              " 'quality': <gensim.models.keyedvectors.Vocab at 0x7fc5778aa310>,\n",
              " 'rakhi': <gensim.models.keyedvectors.Vocab at 0x7fc5778aa450>,\n",
              " 'ram': <gensim.models.keyedvectors.Vocab at 0x7fc5778aa050>,\n",
              " 'rear': <gensim.models.keyedvectors.Vocab at 0x7fc575874410>,\n",
              " 'redmi': <gensim.models.keyedvectors.Vocab at 0x7fc57585e590>,\n",
              " 'removable': <gensim.models.keyedvectors.Vocab at 0x7fc5778aac50>,\n",
              " 'removal': <gensim.models.keyedvectors.Vocab at 0x7fc57584da10>,\n",
              " 'resistant': <gensim.models.keyedvectors.Vocab at 0x7fc575874fd0>,\n",
              " 'rgold': <gensim.models.keyedvectors.Vocab at 0x7fc57587a610>,\n",
              " 'rocher': <gensim.models.keyedvectors.Vocab at 0x7fc57584d410>,\n",
              " 'round': <gensim.models.keyedvectors.Vocab at 0x7fc57585e750>,\n",
              " 's8': <gensim.models.keyedvectors.Vocab at 0x7fc577a6a190>,\n",
              " 'samsung': <gensim.models.keyedvectors.Vocab at 0x7fc57584dc10>,\n",
              " 'scratch': <gensim.models.keyedvectors.Vocab at 0x7fc57585e5d0>,\n",
              " 'screen': <gensim.models.keyedvectors.Vocab at 0x7fc57585ef90>,\n",
              " 'shell': <gensim.models.keyedvectors.Vocab at 0x7fc5778aa210>,\n",
              " 'shockproof': <gensim.models.keyedvectors.Vocab at 0x7fc575874990>,\n",
              " 'shocks': <gensim.models.keyedvectors.Vocab at 0x7fc5758742d0>,\n",
              " 'silicon': <gensim.models.keyedvectors.Vocab at 0x7fc57584d610>,\n",
              " 'silicone': <gensim.models.keyedvectors.Vocab at 0x7fc57584d050>,\n",
              " 'size': <gensim.models.keyedvectors.Vocab at 0x7fc5778aaed0>,\n",
              " 'sky': <gensim.models.keyedvectors.Vocab at 0x7fc57587ae50>,\n",
              " 'slim': <gensim.models.keyedvectors.Vocab at 0x7fc575874610>,\n",
              " 'slots': <gensim.models.keyedvectors.Vocab at 0x7fc57587ad50>,\n",
              " 'sm-g610f/galaxy': <gensim.models.keyedvectors.Vocab at 0x7fc575874c10>,\n",
              " 'son': <gensim.models.keyedvectors.Vocab at 0x7fc57587a890>,\n",
              " 'speed': <gensim.models.keyedvectors.Vocab at 0x7fc57587aad0>,\n",
              " 'storage': <gensim.models.keyedvectors.Vocab at 0x7fc5778aa810>,\n",
              " 'strong': <gensim.models.keyedvectors.Vocab at 0x7fc575874a50>,\n",
              " 'stunning': <gensim.models.keyedvectors.Vocab at 0x7fc5779f8d90>,\n",
              " 'subject': <gensim.models.keyedvectors.Vocab at 0x7fc5778aa610>,\n",
              " 'tear': <gensim.models.keyedvectors.Vocab at 0x7fc575874f10>,\n",
              " 'teddy': <gensim.models.keyedvectors.Vocab at 0x7fc575874310>,\n",
              " 'tekcoo': <gensim.models.keyedvectors.Vocab at 0x7fc57587ab10>,\n",
              " 'thin': <gensim.models.keyedvectors.Vocab at 0x7fc575874cd0>,\n",
              " 'thread': <gensim.models.keyedvectors.Vocab at 0x7fc5778aaf50>,\n",
              " 'transparent': <gensim.models.keyedvectors.Vocab at 0x7fc5778aaa90>,\n",
              " 'trendy': <gensim.models.keyedvectors.Vocab at 0x7fc575874950>,\n",
              " 'ultra': <gensim.models.keyedvectors.Vocab at 0x7fc575874b90>,\n",
              " 'universal': <gensim.models.keyedvectors.Vocab at 0x7fc57587abd0>,\n",
              " 'usb': <gensim.models.keyedvectors.Vocab at 0x7fc57585ecd0>,\n",
              " 'v': <gensim.models.keyedvectors.Vocab at 0x7fc57587a790>,\n",
              " 'variations': <gensim.models.keyedvectors.Vocab at 0x7fc5778aac10>,\n",
              " 'velvet': <gensim.models.keyedvectors.Vocab at 0x7fc5778aa410>,\n",
              " 'view': <gensim.models.keyedvectors.Vocab at 0x7fc57585e650>,\n",
              " 'wall': <gensim.models.keyedvectors.Vocab at 0x7fc57585ef50>,\n",
              " 'wallet': <gensim.models.keyedvectors.Vocab at 0x7fc57587a450>,\n",
              " 'whistel': <gensim.models.keyedvectors.Vocab at 0x7fc5778aaa50>,\n",
              " 'white': <gensim.models.keyedvectors.Vocab at 0x7fc57585ea10>,\n",
              " 'wireless': <gensim.models.keyedvectors.Vocab at 0x7fc57585ee90>,\n",
              " 'wrap': <gensim.models.keyedvectors.Vocab at 0x7fc575874890>,\n",
              " 'yashoda': <gensim.models.keyedvectors.Vocab at 0x7fc57587a950>,\n",
              " 'yellow': <gensim.models.keyedvectors.Vocab at 0x7fc5778aad90>}"
            ]
          },
          "metadata": {
            "tags": []
          },
          "execution_count": 70
        }
      ]
    },
    {
      "cell_type": "code",
      "metadata": {
        "colab": {
          "base_uri": "https://localhost:8080/"
        },
        "id": "XoojSVoD9aD0",
        "outputId": "7b0f7158-e6fc-407d-d89b-db5157db8f06"
      },
      "source": [
        "len(model.wv.vocab)"
      ],
      "execution_count": null,
      "outputs": [
        {
          "output_type": "execute_result",
          "data": {
            "text/plain": [
              "169"
            ]
          },
          "metadata": {
            "tags": []
          },
          "execution_count": 74
        }
      ]
    },
    {
      "cell_type": "code",
      "metadata": {
        "colab": {
          "base_uri": "https://localhost:8080/"
        },
        "id": "3oQX7zcd8iLR",
        "outputId": "44b95667-54af-4e68-ee31-442b26f967e7"
      },
      "source": [
        "list(model.docvecs[12])"
      ],
      "execution_count": 44,
      "outputs": [
        {
          "output_type": "execute_result",
          "data": {
            "text/plain": [
              "array([-0.0137639 ,  0.00822021, -0.64427865,  0.66964585, -0.4617727 ,\n",
              "        0.19720778,  0.68632954, -0.32569808, -0.58936596,  1.05935   ,\n",
              "        0.28541023,  0.02544106, -0.21017215,  0.02848674, -0.5766824 ,\n",
              "       -0.1312639 , -0.23680934,  0.27173018, -0.393212  , -0.20725958,\n",
              "       -0.724784  , -0.16572446,  0.49136472,  0.09901375, -0.22169138,\n",
              "       -0.72473687,  0.8304161 , -0.6650895 , -0.62676144,  0.9494103 ],\n",
              "      dtype=float32)"
            ]
          },
          "metadata": {
            "tags": []
          },
          "execution_count": 44
        }
      ]
    },
    {
      "cell_type": "code",
      "metadata": {
        "colab": {
          "base_uri": "https://localhost:8080/"
        },
        "id": "XP1x20CJafma",
        "outputId": "a6482195-37e2-406f-8769-7e79358fffe5"
      },
      "source": [
        "list(model.docvecs[12])"
      ],
      "execution_count": 45,
      "outputs": [
        {
          "output_type": "execute_result",
          "data": {
            "text/plain": [
              "[-0.013763897,\n",
              " 0.008220211,\n",
              " -0.64427865,\n",
              " 0.66964585,\n",
              " -0.4617727,\n",
              " 0.19720778,\n",
              " 0.68632954,\n",
              " -0.32569808,\n",
              " -0.58936596,\n",
              " 1.05935,\n",
              " 0.28541023,\n",
              " 0.02544106,\n",
              " -0.21017215,\n",
              " 0.028486744,\n",
              " -0.5766824,\n",
              " -0.1312639,\n",
              " -0.23680934,\n",
              " 0.27173018,\n",
              " -0.393212,\n",
              " -0.20725958,\n",
              " -0.724784,\n",
              " -0.16572446,\n",
              " 0.49136472,\n",
              " 0.09901375,\n",
              " -0.22169138,\n",
              " -0.72473687,\n",
              " 0.8304161,\n",
              " -0.6650895,\n",
              " -0.62676144,\n",
              " 0.9494103]"
            ]
          },
          "metadata": {
            "tags": []
          },
          "execution_count": 45
        }
      ]
    },
    {
      "cell_type": "markdown",
      "metadata": {
        "id": "UYY9BtPEaf_T"
      },
      "source": [
        "# Applying doc2vec on train dataset"
      ]
    },
    {
      "cell_type": "code",
      "metadata": {
        "id": "ZhZxiEpa83Rq"
      },
      "source": [
        "import pandas as pd\n",
        "import numpy as np"
      ],
      "execution_count": 1,
      "outputs": []
    },
    {
      "cell_type": "code",
      "metadata": {
        "id": "82lO7S8A83UG"
      },
      "source": [
        "def reading_data(name):\n",
        "  df = pd.read_csv(name)\n",
        "  return df"
      ],
      "execution_count": 2,
      "outputs": []
    },
    {
      "cell_type": "code",
      "metadata": {
        "id": "REV8bW5-83We"
      },
      "source": [
        "train1 = reading_data('/content/drive/MyDrive/Amazon Challenge/Train_Clusters/1.csv')\n",
        "test1 = reading_data('/content/drive/MyDrive/Amazon Challenge/Test_Clusters/1.csv')"
      ],
      "execution_count": 3,
      "outputs": []
    },
    {
      "cell_type": "code",
      "metadata": {
        "id": "5P9DOrDN8iN2"
      },
      "source": [
        "train1 = train1.iloc[:,2:]\n",
        "test1 = test1.iloc[:,1:]"
      ],
      "execution_count": 4,
      "outputs": []
    },
    {
      "cell_type": "code",
      "metadata": {
        "colab": {
          "base_uri": "https://localhost:8080/"
        },
        "id": "a2e6W6Aqan_J",
        "outputId": "9fdc00b6-b45d-46d1-bd47-38375ef5d24b"
      },
      "source": [
        "train1.shape,test1.shape"
      ],
      "execution_count": 5,
      "outputs": [
        {
          "output_type": "execute_result",
          "data": {
            "text/plain": [
              "((44032, 2), (184, 2))"
            ]
          },
          "metadata": {
            "tags": []
          },
          "execution_count": 5
        }
      ]
    },
    {
      "cell_type": "code",
      "metadata": {
        "colab": {
          "base_uri": "https://localhost:8080/"
        },
        "id": "djSBu4C_aoF1",
        "outputId": "64864d54-b399-49b3-aaed-4a8507f36b0a"
      },
      "source": [
        "train1.BROWSE_NODE_ID.value_counts()"
      ],
      "execution_count": 6,
      "outputs": [
        {
          "output_type": "execute_result",
          "data": {
            "text/plain": [
              "40      6115\n",
              "1017    3113\n",
              "1592    1987\n",
              "773     1699\n",
              "5       1636\n",
              "        ... \n",
              "107        1\n",
              "11         1\n",
              "3787       1\n",
              "826        1\n",
              "0          1\n",
              "Name: BROWSE_NODE_ID, Length: 611, dtype: int64"
            ]
          },
          "metadata": {
            "tags": []
          },
          "execution_count": 6
        }
      ]
    },
    {
      "cell_type": "code",
      "metadata": {
        "colab": {
          "base_uri": "https://localhost:8080/"
        },
        "id": "7M4mPh5gs4Z9",
        "outputId": "e70d06b8-1f65-41dd-8db9-567622d37ee0"
      },
      "source": [
        "from google.colab import drive\n",
        "drive.mount('/content/drive')"
      ],
      "execution_count": 6,
      "outputs": [
        {
          "output_type": "stream",
          "text": [
            "Mounted at /content/drive\n"
          ],
          "name": "stdout"
        }
      ]
    },
    {
      "cell_type": "code",
      "metadata": {
        "colab": {
          "base_uri": "https://localhost:8080/",
          "height": 203
        },
        "id": "_G7vsxMfaoOQ",
        "outputId": "4f09db50-d6e6-4277-e544-5d380cc1251a"
      },
      "source": [
        "train1.head()"
      ],
      "execution_count": 11,
      "outputs": [
        {
          "output_type": "execute_result",
          "data": {
            "text/html": [
              "<div>\n",
              "<style scoped>\n",
              "    .dataframe tbody tr th:only-of-type {\n",
              "        vertical-align: middle;\n",
              "    }\n",
              "\n",
              "    .dataframe tbody tr th {\n",
              "        vertical-align: top;\n",
              "    }\n",
              "\n",
              "    .dataframe thead th {\n",
              "        text-align: right;\n",
              "    }\n",
              "</style>\n",
              "<table border=\"1\" class=\"dataframe\">\n",
              "  <thead>\n",
              "    <tr style=\"text-align: right;\">\n",
              "      <th></th>\n",
              "      <th>BULLET_POINTS</th>\n",
              "      <th>BROWSE_NODE_ID</th>\n",
              "    </tr>\n",
              "  </thead>\n",
              "  <tbody>\n",
              "    <tr>\n",
              "      <th>0</th>\n",
              "      <td>100-percent cotton 2-piece rug set super soft ...</td>\n",
              "      <td>383</td>\n",
              "    </tr>\n",
              "    <tr>\n",
              "      <th>1</th>\n",
              "      <td>polyester interlock climacool machine wash tha...</td>\n",
              "      <td>1481</td>\n",
              "    </tr>\n",
              "    <tr>\n",
              "      <th>2</th>\n",
              "      <td>polyester elastane wash colors iron regular fi...</td>\n",
              "      <td>5</td>\n",
              "    </tr>\n",
              "    <tr>\n",
              "      <th>3</th>\n",
              "      <td>please size chart purchase cotton elastane mac...</td>\n",
              "      <td>1171</td>\n",
              "    </tr>\n",
              "    <tr>\n",
              "      <th>4</th>\n",
              "      <td>cotton polyester machine wash soft cup daisy d...</td>\n",
              "      <td>773</td>\n",
              "    </tr>\n",
              "  </tbody>\n",
              "</table>\n",
              "</div>"
            ],
            "text/plain": [
              "                                       BULLET_POINTS  BROWSE_NODE_ID\n",
              "0  100-percent cotton 2-piece rug set super soft ...             383\n",
              "1  polyester interlock climacool machine wash tha...            1481\n",
              "2  polyester elastane wash colors iron regular fi...               5\n",
              "3  please size chart purchase cotton elastane mac...            1171\n",
              "4  cotton polyester machine wash soft cup daisy d...             773"
            ]
          },
          "metadata": {
            "tags": []
          },
          "execution_count": 11
        }
      ]
    },
    {
      "cell_type": "code",
      "metadata": {
        "colab": {
          "base_uri": "https://localhost:8080/",
          "height": 203
        },
        "id": "NY_1VreqaoTA",
        "outputId": "79c99a86-9f0a-4b96-b1bb-ba4cc5e19b49"
      },
      "source": [
        "test1.head()"
      ],
      "execution_count": 12,
      "outputs": [
        {
          "output_type": "execute_result",
          "data": {
            "text/html": [
              "<div>\n",
              "<style scoped>\n",
              "    .dataframe tbody tr th:only-of-type {\n",
              "        vertical-align: middle;\n",
              "    }\n",
              "\n",
              "    .dataframe tbody tr th {\n",
              "        vertical-align: top;\n",
              "    }\n",
              "\n",
              "    .dataframe thead th {\n",
              "        text-align: right;\n",
              "    }\n",
              "</style>\n",
              "<table border=\"1\" class=\"dataframe\">\n",
              "  <thead>\n",
              "    <tr style=\"text-align: right;\">\n",
              "      <th></th>\n",
              "      <th>PRODUCT_ID</th>\n",
              "      <th>BULLET_POINTS</th>\n",
              "    </tr>\n",
              "  </thead>\n",
              "  <tbody>\n",
              "    <tr>\n",
              "      <th>0</th>\n",
              "      <td>93</td>\n",
              "      <td>cotton dress height=14 chest=10.5 gentle hand ...</td>\n",
              "    </tr>\n",
              "    <tr>\n",
              "      <th>1</th>\n",
              "      <td>479</td>\n",
              "      <td>fit type free high quality quotes material pol...</td>\n",
              "    </tr>\n",
              "    <tr>\n",
              "      <th>2</th>\n",
              "      <td>1248</td>\n",
              "      <td>ampoule machine</td>\n",
              "    </tr>\n",
              "    <tr>\n",
              "      <th>3</th>\n",
              "      <td>1378</td>\n",
              "      <td>color off-white fabric cotton flax package con...</td>\n",
              "    </tr>\n",
              "    <tr>\n",
              "      <th>4</th>\n",
              "      <td>2288</td>\n",
              "      <td>color name seagreen cotton elastane machine wa...</td>\n",
              "    </tr>\n",
              "  </tbody>\n",
              "</table>\n",
              "</div>"
            ],
            "text/plain": [
              "   PRODUCT_ID                                      BULLET_POINTS\n",
              "0          93  cotton dress height=14 chest=10.5 gentle hand ...\n",
              "1         479  fit type free high quality quotes material pol...\n",
              "2        1248                                   ampoule machine \n",
              "3        1378  color off-white fabric cotton flax package con...\n",
              "4        2288  color name seagreen cotton elastane machine wa..."
            ]
          },
          "metadata": {
            "tags": []
          },
          "execution_count": 12
        }
      ]
    },
    {
      "cell_type": "code",
      "metadata": {
        "id": "pv55P4Z18iQV"
      },
      "source": [
        "def df_tokenizer(df):\n",
        "  sentences = []\n",
        "  for i in range(df.shape[0]):\n",
        "    sentences.append(df.iloc[i]['BULLET_POINTS'])\n",
        "  for i, sentence in enumerate(sentences):\n",
        "    tokenized=[]\n",
        "    for word in sentence.split(' '):\n",
        "      if word=='':\n",
        "        continue\n",
        "      tokenized.append(word)\n",
        "    sentences[i] = tokenized \n",
        "  return sentences     \n"
      ],
      "execution_count": 7,
      "outputs": []
    },
    {
      "cell_type": "code",
      "metadata": {
        "id": "KlETt7ME8iSo"
      },
      "source": [
        "from gensim.models.doc2vec import Doc2Vec, TaggedDocument"
      ],
      "execution_count": 8,
      "outputs": []
    },
    {
      "cell_type": "code",
      "metadata": {
        "colab": {
          "base_uri": "https://localhost:8080/"
        },
        "id": "3yByw5p6hwGz",
        "outputId": "af5090be-85b2-45a1-b37c-254ff60a8949"
      },
      "source": [
        "Doc2Vec()"
      ],
      "execution_count": 9,
      "outputs": [
        {
          "output_type": "execute_result",
          "data": {
            "text/plain": [
              "<gensim.models.doc2vec.Doc2Vec at 0x7f2150bd3d10>"
            ]
          },
          "metadata": {
            "tags": []
          },
          "execution_count": 9
        }
      ]
    },
    {
      "cell_type": "code",
      "metadata": {
        "id": "_TgoybjAa2CJ"
      },
      "source": [
        "def df_doc2vec(df,s):\n",
        "  tagged_data = [TaggedDocument(d, [i]) for i, d in enumerate(s)]\n",
        "  model = Doc2Vec(tagged_data, vector_size = 100, window = 2, min_count = 1, epochs = 10)\n",
        "\n",
        "  '''\n",
        "  vector_size = Dimensionality of the feature vectors.\n",
        "  window = The maximum distance between the current and predicted word within a sentence.\n",
        "  min_count = Ignores all words with total frequency lower than this.\n",
        "  alpha = The initial learning rate.\n",
        "  '''\n",
        "  word_embedding_size= model.wv.vector_size\n",
        "  vector_list = []\n",
        "  for i in range(df.shape[0]):\n",
        "    vector_list.append(list(model.docvecs[i]))\n",
        "  print('The word embedding vector size is {}'.format(word_embedding_size)) \n",
        "  return vector_list \n",
        "\n",
        "\n"
      ],
      "execution_count": 10,
      "outputs": []
    },
    {
      "cell_type": "code",
      "metadata": {
        "id": "pnz9mpYIa2Et"
      },
      "source": [
        "sentence_train1= df_tokenizer(train1)"
      ],
      "execution_count": 11,
      "outputs": []
    },
    {
      "cell_type": "code",
      "metadata": {
        "colab": {
          "base_uri": "https://localhost:8080/"
        },
        "id": "UCZjjYyRa2G4",
        "outputId": "684bdec5-6dd4-4bdb-eb23-c41c11153c73"
      },
      "source": [
        "final_vector_train1 = df_doc2vec(train1,sentence_train1)"
      ],
      "execution_count": 12,
      "outputs": [
        {
          "output_type": "stream",
          "text": [
            "The word embedding vector size is 100\n"
          ],
          "name": "stdout"
        }
      ]
    },
    {
      "cell_type": "code",
      "metadata": {
        "id": "3Cuyp-X5a2JB"
      },
      "source": [
        "y_train = np.array(train1.BROWSE_NODE_ID)"
      ],
      "execution_count": 13,
      "outputs": []
    },
    {
      "cell_type": "code",
      "metadata": {
        "colab": {
          "base_uri": "https://localhost:8080/"
        },
        "id": "KBHWQ0hwdD4S",
        "outputId": "c67c8605-db45-411e-9620-9c365b49ae0b"
      },
      "source": [
        "sentence_test1 = df_tokenizer(test1)\n",
        "final_vector_test1 = df_doc2vec(test1,sentence_test1)  ##We want to find prediction for these test vectors"
      ],
      "execution_count": 14,
      "outputs": [
        {
          "output_type": "stream",
          "text": [
            "The word embedding vector size is 100\n"
          ],
          "name": "stdout"
        }
      ]
    },
    {
      "cell_type": "code",
      "metadata": {
        "id": "Z-YrJoFsdD9I"
      },
      "source": [
        "from sklearn.decomposition import PCA"
      ],
      "execution_count": 15,
      "outputs": []
    },
    {
      "cell_type": "code",
      "metadata": {
        "id": "JjOYImChdD_6"
      },
      "source": [
        "final_vector_train1=np.array(final_vector_train1)\n",
        "final_vector_test1=np.array(final_vector_test1)"
      ],
      "execution_count": 16,
      "outputs": []
    },
    {
      "cell_type": "code",
      "metadata": {
        "id": "By1GHt1fdECJ"
      },
      "source": [
        "pca = PCA(n_components=2)"
      ],
      "execution_count": 17,
      "outputs": []
    },
    {
      "cell_type": "code",
      "metadata": {
        "id": "UeGg7bfMdEDn"
      },
      "source": [
        "from sklearn.model_selection import train_test_split"
      ],
      "execution_count": 18,
      "outputs": []
    },
    {
      "cell_type": "code",
      "metadata": {
        "id": "CierqBOxntyb"
      },
      "source": [
        "X_train, X_test, y_train, y_test = train_test_split(final_vector_train1,y_train,test_size=0.25)"
      ],
      "execution_count": 19,
      "outputs": []
    },
    {
      "cell_type": "code",
      "metadata": {
        "id": "JVsHau6wnt3g"
      },
      "source": [
        "from sklearn.svm import SVC,SVR\n",
        "from sklearn.preprocessing import StandardScaler\n",
        "from sklearn.pipeline import Pipeline\n",
        "from sklearn.tree import DecisionTreeClassifier,DecisionTreeRegressor\n",
        "from sklearn.linear_model import LogisticRegression,SGDClassifier\n",
        "from sklearn.ensemble import RandomForestRegressor,RandomForestClassifier,ExtraTreesRegressor,ExtraTreesClassifier,VotingRegressor,VotingClassifier,AdaBoostRegressor,AdaBoostClassifier\n",
        "from xgboost import XGBClassifier,XGBRegressor\n",
        "from sklearn.metrics import mean_squared_error,r2_score,accuracy_score"
      ],
      "execution_count": 20,
      "outputs": []
    },
    {
      "cell_type": "code",
      "metadata": {
        "id": "ykzbqrMMnt58"
      },
      "source": [
        "def Fitting_models_with_evaluation(x_train,y_train,x_test):\n",
        "  model = LogisticRegression(n_jobs=-1,max_iter=1)\n",
        "  model.fit(x_train,y_train)\n",
        "  predictions = model.predict(x_test)\n",
        "  return predictions"
      ],
      "execution_count": 21,
      "outputs": []
    },
    {
      "cell_type": "code",
      "metadata": {
        "id": "GZoBqCutjOas"
      },
      "source": [
        "test_finally =pd.DataFrame({'PRODUCT_ID':[],'BROWSE_NODE_ID':[]})"
      ],
      "execution_count": 76,
      "outputs": []
    },
    {
      "cell_type": "code",
      "metadata": {
        "id": "V7AEEaGdjlvr"
      },
      "source": [
        ""
      ],
      "execution_count": 77,
      "outputs": []
    },
    {
      "cell_type": "code",
      "metadata": {
        "colab": {
          "base_uri": "https://localhost:8080/",
          "height": 387
        },
        "id": "AdvtvGAOnt7m",
        "outputId": "fbedc6b1-0453-499d-d7ef-eac00fca6880"
      },
      "source": [
        "for i in range(50):\n",
        "  train = reading_data('/content/drive/MyDrive/Amazon Challenge/Train_Clusters/{}.csv'.format(i))\n",
        "  test = reading_data('/content/drive/MyDrive/Amazon Challenge/Test_Clusters/{}.csv'.format(i))\n",
        "  train = train.iloc[:,2:]\n",
        "  test = test.iloc[:,1:]\n",
        "  product_id = list(test['PRODUCT_ID'])\n",
        "  sentence_train = df_tokenizer(train)\n",
        "  final_vector_train = df_doc2vec(train,sentence_train)\n",
        "  y_train = np.array(train.BROWSE_NODE_ID)\n",
        "\n",
        "  sentence_test = df_tokenizer(test)\n",
        "  final_vector_test = df_doc2vec(test,sentence_test1) \n",
        "  final_vector_train =np.array(final_vector_train)\n",
        "  final_vector_test =np.array(final_vector_test) \n",
        "  prediction = Fitting_models_with_evaluation(final_vector_train,y_train,final_vector_test)\n",
        "  df=pd.DataFrame({'PRODUCT_ID':product_id,'BROWSE_NODE_ID':prediction})\n",
        "  test_finally.append(df)\n"
      ],
      "execution_count": 93,
      "outputs": [
        {
          "output_type": "stream",
          "text": [
            "The word embedding vector size is 20\n"
          ],
          "name": "stdout"
        },
        {
          "output_type": "error",
          "ename": "KeyError",
          "evalue": "ignored",
          "traceback": [
            "\u001b[0;31m---------------------------------------------------------------------------\u001b[0m",
            "\u001b[0;31mKeyError\u001b[0m                                  Traceback (most recent call last)",
            "\u001b[0;32m<ipython-input-93-e1469c697eae>\u001b[0m in \u001b[0;36m<module>\u001b[0;34m()\u001b[0m\n\u001b[1;32m     10\u001b[0m \u001b[0;34m\u001b[0m\u001b[0m\n\u001b[1;32m     11\u001b[0m   \u001b[0msentence_test\u001b[0m \u001b[0;34m=\u001b[0m \u001b[0mdf_tokenizer\u001b[0m\u001b[0;34m(\u001b[0m\u001b[0mtest\u001b[0m\u001b[0;34m)\u001b[0m\u001b[0;34m\u001b[0m\u001b[0;34m\u001b[0m\u001b[0m\n\u001b[0;32m---> 12\u001b[0;31m   \u001b[0mfinal_vector_test\u001b[0m \u001b[0;34m=\u001b[0m \u001b[0mdf_doc2vec\u001b[0m\u001b[0;34m(\u001b[0m\u001b[0mtest\u001b[0m\u001b[0;34m,\u001b[0m\u001b[0msentence_test1\u001b[0m\u001b[0;34m)\u001b[0m\u001b[0;34m\u001b[0m\u001b[0;34m\u001b[0m\u001b[0m\n\u001b[0m\u001b[1;32m     13\u001b[0m   \u001b[0mfinal_vector_train\u001b[0m \u001b[0;34m=\u001b[0m\u001b[0mnp\u001b[0m\u001b[0;34m.\u001b[0m\u001b[0marray\u001b[0m\u001b[0;34m(\u001b[0m\u001b[0mfinal_vector_train\u001b[0m\u001b[0;34m)\u001b[0m\u001b[0;34m\u001b[0m\u001b[0;34m\u001b[0m\u001b[0m\n\u001b[1;32m     14\u001b[0m   \u001b[0mfinal_vector_test\u001b[0m \u001b[0;34m=\u001b[0m\u001b[0mnp\u001b[0m\u001b[0;34m.\u001b[0m\u001b[0marray\u001b[0m\u001b[0;34m(\u001b[0m\u001b[0mfinal_vector_test\u001b[0m\u001b[0;34m)\u001b[0m\u001b[0;34m\u001b[0m\u001b[0;34m\u001b[0m\u001b[0m\n",
            "\u001b[0;32m<ipython-input-51-38eed1f97df3>\u001b[0m in \u001b[0;36mdf_doc2vec\u001b[0;34m(df, s)\u001b[0m\n\u001b[1;32m     12\u001b[0m   \u001b[0mvector_list\u001b[0m \u001b[0;34m=\u001b[0m \u001b[0;34m[\u001b[0m\u001b[0;34m]\u001b[0m\u001b[0;34m\u001b[0m\u001b[0;34m\u001b[0m\u001b[0m\n\u001b[1;32m     13\u001b[0m   \u001b[0;32mfor\u001b[0m \u001b[0mi\u001b[0m \u001b[0;32min\u001b[0m \u001b[0mrange\u001b[0m\u001b[0;34m(\u001b[0m\u001b[0mdf\u001b[0m\u001b[0;34m.\u001b[0m\u001b[0mshape\u001b[0m\u001b[0;34m[\u001b[0m\u001b[0;36m0\u001b[0m\u001b[0;34m]\u001b[0m\u001b[0;34m)\u001b[0m\u001b[0;34m:\u001b[0m\u001b[0;34m\u001b[0m\u001b[0;34m\u001b[0m\u001b[0m\n\u001b[0;32m---> 14\u001b[0;31m     \u001b[0mvector_list\u001b[0m\u001b[0;34m.\u001b[0m\u001b[0mappend\u001b[0m\u001b[0;34m(\u001b[0m\u001b[0mlist\u001b[0m\u001b[0;34m(\u001b[0m\u001b[0mmodel\u001b[0m\u001b[0;34m.\u001b[0m\u001b[0mdocvecs\u001b[0m\u001b[0;34m[\u001b[0m\u001b[0mi\u001b[0m\u001b[0;34m]\u001b[0m\u001b[0;34m)\u001b[0m\u001b[0;34m)\u001b[0m\u001b[0;34m\u001b[0m\u001b[0;34m\u001b[0m\u001b[0m\n\u001b[0m\u001b[1;32m     15\u001b[0m   \u001b[0mprint\u001b[0m\u001b[0;34m(\u001b[0m\u001b[0;34m'The word embedding vector size is {}'\u001b[0m\u001b[0;34m.\u001b[0m\u001b[0mformat\u001b[0m\u001b[0;34m(\u001b[0m\u001b[0mword_embedding_size\u001b[0m\u001b[0;34m)\u001b[0m\u001b[0;34m)\u001b[0m\u001b[0;34m\u001b[0m\u001b[0;34m\u001b[0m\u001b[0m\n\u001b[1;32m     16\u001b[0m   \u001b[0;32mreturn\u001b[0m \u001b[0mvector_list\u001b[0m\u001b[0;34m\u001b[0m\u001b[0;34m\u001b[0m\u001b[0m\n",
            "\u001b[0;32m/usr/local/lib/python3.7/dist-packages/gensim/models/keyedvectors.py\u001b[0m in \u001b[0;36m__getitem__\u001b[0;34m(self, index)\u001b[0m\n\u001b[1;32m   1529\u001b[0m                 \u001b[0;32mreturn\u001b[0m \u001b[0mself\u001b[0m\u001b[0;34m.\u001b[0m\u001b[0mvectors_docs\u001b[0m\u001b[0;34m[\u001b[0m\u001b[0mself\u001b[0m\u001b[0;34m.\u001b[0m\u001b[0m_int_index\u001b[0m\u001b[0;34m(\u001b[0m\u001b[0mindex\u001b[0m\u001b[0;34m,\u001b[0m \u001b[0mself\u001b[0m\u001b[0;34m.\u001b[0m\u001b[0mdoctags\u001b[0m\u001b[0;34m,\u001b[0m \u001b[0mself\u001b[0m\u001b[0;34m.\u001b[0m\u001b[0mmax_rawint\u001b[0m\u001b[0;34m)\u001b[0m\u001b[0;34m]\u001b[0m\u001b[0;34m\u001b[0m\u001b[0;34m\u001b[0m\u001b[0m\n\u001b[1;32m   1530\u001b[0m             \u001b[0;32mreturn\u001b[0m \u001b[0mvstack\u001b[0m\u001b[0;34m(\u001b[0m\u001b[0;34m[\u001b[0m\u001b[0mself\u001b[0m\u001b[0;34m[\u001b[0m\u001b[0mi\u001b[0m\u001b[0;34m]\u001b[0m \u001b[0;32mfor\u001b[0m \u001b[0mi\u001b[0m \u001b[0;32min\u001b[0m \u001b[0mindex\u001b[0m\u001b[0;34m]\u001b[0m\u001b[0;34m)\u001b[0m\u001b[0;34m\u001b[0m\u001b[0;34m\u001b[0m\u001b[0m\n\u001b[0;32m-> 1531\u001b[0;31m         \u001b[0;32mraise\u001b[0m \u001b[0mKeyError\u001b[0m\u001b[0;34m(\u001b[0m\u001b[0;34m\"tag '%s' not seen in training corpus/invalid\"\u001b[0m \u001b[0;34m%\u001b[0m \u001b[0mindex\u001b[0m\u001b[0;34m)\u001b[0m\u001b[0;34m\u001b[0m\u001b[0;34m\u001b[0m\u001b[0m\n\u001b[0m\u001b[1;32m   1532\u001b[0m \u001b[0;34m\u001b[0m\u001b[0m\n\u001b[1;32m   1533\u001b[0m     \u001b[0;32mdef\u001b[0m \u001b[0m__contains__\u001b[0m\u001b[0;34m(\u001b[0m\u001b[0mself\u001b[0m\u001b[0;34m,\u001b[0m \u001b[0mindex\u001b[0m\u001b[0;34m)\u001b[0m\u001b[0;34m:\u001b[0m\u001b[0;34m\u001b[0m\u001b[0;34m\u001b[0m\u001b[0m\n",
            "\u001b[0;31mKeyError\u001b[0m: \"tag '184' not seen in training corpus/invalid\""
          ]
        }
      ]
    },
    {
      "cell_type": "code",
      "metadata": {
        "id": "y5NNqNrvmwWb"
      },
      "source": [
        ""
      ],
      "execution_count": null,
      "outputs": []
    },
    {
      "cell_type": "code",
      "metadata": {
        "id": "IAUAJms6d6I1"
      },
      "source": [
        ""
      ],
      "execution_count": 80,
      "outputs": []
    },
    {
      "cell_type": "code",
      "metadata": {
        "id": "Fayk7Ai-d6LH"
      },
      "source": [
        ""
      ],
      "execution_count": 83,
      "outputs": []
    },
    {
      "cell_type": "code",
      "metadata": {
        "id": "8yr_DwyBl54K"
      },
      "source": [
        ""
      ],
      "execution_count": 85,
      "outputs": []
    },
    {
      "cell_type": "code",
      "metadata": {
        "id": "bTgjmFiql-Ab"
      },
      "source": [
        ""
      ],
      "execution_count": 21,
      "outputs": []
    },
    {
      "cell_type": "code",
      "metadata": {
        "id": "xllqhk7Kl6hQ"
      },
      "source": [
        ""
      ],
      "execution_count": 91,
      "outputs": []
    },
    {
      "cell_type": "code",
      "metadata": {
        "colab": {
          "base_uri": "https://localhost:8080/"
        },
        "id": "zJ_7TPXdnt9h",
        "outputId": "3515f6b9-1f5a-4ea7-c442-a123b607f8f8"
      },
      "source": [
        "X_train.shape,y_train.shape"
      ],
      "execution_count": 63,
      "outputs": [
        {
          "output_type": "execute_result",
          "data": {
            "text/plain": [
              "((33024, 20), (33024,))"
            ]
          },
          "metadata": {
            "tags": []
          },
          "execution_count": 63
        }
      ]
    },
    {
      "cell_type": "code",
      "metadata": {
        "id": "08t4wwg84p82"
      },
      "source": [
        "#temp = pca.fit_transform(X_train)"
      ],
      "execution_count": 64,
      "outputs": []
    },
    {
      "cell_type": "code",
      "metadata": {
        "colab": {
          "base_uri": "https://localhost:8080/"
        },
        "id": "JzwO_vyc5EgG",
        "outputId": "b8250f4b-682b-482b-d04d-6b7943629d61"
      },
      "source": [
        "#temp.shape"
      ],
      "execution_count": 65,
      "outputs": [
        {
          "output_type": "execute_result",
          "data": {
            "text/plain": [
              "(33024, 2)"
            ]
          },
          "metadata": {
            "tags": []
          },
          "execution_count": 65
        }
      ]
    },
    {
      "cell_type": "code",
      "metadata": {
        "id": "TzsPLv1Ua2Lh"
      },
      "source": [
        "svr=SVR()\n",
        "svr.fit(X=temp,y= y_train)\n",
        "pred = svr.predict(X_test)\n",
        "print(mean_squared_error(y_test,pred))"
      ],
      "execution_count": null,
      "outputs": []
    },
    {
      "cell_type": "code",
      "metadata": {
        "colab": {
          "base_uri": "https://localhost:8080/"
        },
        "id": "oER7WzK2tRWp",
        "outputId": "853da8b3-0955-490e-d7e8-77b0d460e8d1"
      },
      "source": [
        "decision =DecisionTreeRegressor()\n",
        "decision.fit(temp,y_train)"
      ],
      "execution_count": 29,
      "outputs": [
        {
          "output_type": "execute_result",
          "data": {
            "text/plain": [
              "DecisionTreeRegressor(ccp_alpha=0.0, criterion='mse', max_depth=None,\n",
              "                      max_features=None, max_leaf_nodes=None,\n",
              "                      min_impurity_decrease=0.0, min_impurity_split=None,\n",
              "                      min_samples_leaf=1, min_samples_split=2,\n",
              "                      min_weight_fraction_leaf=0.0, presort='deprecated',\n",
              "                      random_state=None, splitter='best')"
            ]
          },
          "metadata": {
            "tags": []
          },
          "execution_count": 29
        }
      ]
    },
    {
      "cell_type": "code",
      "metadata": {
        "id": "1_YJ5yVpJhCF"
      },
      "source": [
        ""
      ],
      "execution_count": null,
      "outputs": []
    },
    {
      "cell_type": "code",
      "metadata": {
        "id": "JGZiEsUxJV3L"
      },
      "source": [
        "pred = decision.predict(pca.fit_transform(X_test))"
      ],
      "execution_count": 30,
      "outputs": []
    },
    {
      "cell_type": "code",
      "metadata": {
        "colab": {
          "base_uri": "https://localhost:8080/"
        },
        "id": "_Y8aFL89JbSI",
        "outputId": "cecf8adf-5d1f-48fe-c4de-e1a95d09bd49"
      },
      "source": [
        "print(mean_squared_error(y_test,np.ceil(pred)))"
      ],
      "execution_count": 31,
      "outputs": [
        {
          "output_type": "stream",
          "text": [
            "891408290.9202398\n"
          ],
          "name": "stdout"
        }
      ]
    },
    {
      "cell_type": "code",
      "metadata": {
        "id": "9KiOe6OeJntc"
      },
      "source": [
        "rf = RandomForestClassifier(n_estimators=100)\n",
        "rf.fit(X_train,y_train)\n",
        "pred=rf.predict(X_test)"
      ],
      "execution_count": null,
      "outputs": []
    },
    {
      "cell_type": "code",
      "metadata": {
        "id": "2xJPuLqhKA4q"
      },
      "source": [
        "accuracy_score(y_test,pred)"
      ],
      "execution_count": null,
      "outputs": []
    },
    {
      "cell_type": "code",
      "metadata": {
        "colab": {
          "base_uri": "https://localhost:8080/"
        },
        "id": "99nlqBmtKLF7",
        "outputId": "fc60a074-0665-4084-a6b5-969986c85c1e"
      },
      "source": [
        "logit = LogisticRegression(n_jobs=-1,max_iter=5)\n",
        "logit.fit(X_train,y_train)\n",
        "pred=logit.predict(X_test)\n",
        "accuracy_score(y_test,pred)"
      ],
      "execution_count": 74,
      "outputs": [
        {
          "output_type": "execute_result",
          "data": {
            "text/plain": [
              "0.13971656976744187"
            ]
          },
          "metadata": {
            "tags": []
          },
          "execution_count": 74
        }
      ]
    },
    {
      "cell_type": "code",
      "metadata": {
        "colab": {
          "base_uri": "https://localhost:8080/"
        },
        "id": "zi2vTJwicZkR",
        "outputId": "e7eaf85f-ee57-4cbd-982c-e5163e911352"
      },
      "source": [
        "# logit = SGDClassifier()\n",
        "# logit.fit(temp,y_train)\n",
        "# pred=logit.predict(pca.fit_transform(X_test))\n",
        "# accuracy_score(y_test,pred)"
      ],
      "execution_count": 32,
      "outputs": [
        {
          "output_type": "execute_result",
          "data": {
            "text/plain": [
              "0.07258357558139535"
            ]
          },
          "metadata": {
            "tags": []
          },
          "execution_count": 32
        }
      ]
    },
    {
      "cell_type": "code",
      "metadata": {
        "colab": {
          "base_uri": "https://localhost:8080/"
        },
        "id": "BWpApJuCeOh-",
        "outputId": "36111873-ecd7-48a4-c88a-08092acacce9"
      },
      "source": [
        "logit.predict(final_vector_test1)"
      ],
      "execution_count": 75,
      "outputs": [
        {
          "output_type": "execute_result",
          "data": {
            "text/plain": [
              "array([40, 40, 40, 40, 40, 40, 40, 40, 40, 40, 40, 40, 40, 40, 40, 40, 40,\n",
              "       40, 40, 40, 40, 40, 40, 40, 40, 40, 40, 40, 40, 40, 40, 40, 40, 40,\n",
              "       40, 40, 40, 40, 40, 40, 40, 40, 40, 40, 40, 40, 40, 40, 40, 40, 40,\n",
              "       40, 40, 40, 40, 40, 40, 40, 40, 40, 40, 40, 40, 40, 40, 40, 40, 40,\n",
              "       40, 40, 40, 40, 40, 40, 40, 40, 40, 40, 40, 40, 40, 40, 40, 40, 40,\n",
              "       40, 40, 40, 40, 40, 40, 40, 40, 40, 40, 40, 40, 40, 40, 40, 40, 40,\n",
              "       40, 40, 40, 40, 40, 40, 40, 40, 40, 40, 40, 40, 40, 40, 40, 40, 40,\n",
              "       40, 40, 40, 40, 40, 40, 40, 40, 40, 40, 40, 40, 40, 40, 40, 40, 40,\n",
              "       40, 40, 40, 40, 40, 40, 40, 40, 40, 40, 40, 40, 40, 40, 40, 40, 40,\n",
              "       40, 40, 40, 40, 40, 40, 40, 40, 40, 40, 40, 40, 40, 40, 40, 40, 40,\n",
              "       40, 40, 40, 40, 40, 40, 40, 40, 40, 40, 40, 40, 40, 40])"
            ]
          },
          "metadata": {
            "tags": []
          },
          "execution_count": 75
        }
      ]
    },
    {
      "cell_type": "code",
      "metadata": {
        "colab": {
          "base_uri": "https://localhost:8080/"
        },
        "id": "ynhJ5EdHZGh4",
        "outputId": "d8e4cccd-d7a3-49e5-d6be-8673aa28d1fd"
      },
      "source": [
        "# from keras.models import Sequential\n",
        "# from keras.layers import Dense\n",
        "# from keras.layers import Flatten\n",
        "# from keras.layers.embeddings import Embedding\n",
        "# # define problem\n",
        "# vocab_size = 100\n",
        "# max_length = 2\n",
        "# # define the model\n",
        "# model = Sequential()\n",
        "# model.add(Embedding(vocab_size, 8, input_length=max_length))\n",
        "# model.add(Flatten())\n",
        "# model.add(Dense(1, activation='sigmoid'))\n",
        "# # compile the model\n",
        "# model.compile(optimizer='adam', loss='binary_crossentropy', metrics=['accuracy'])\n",
        "# # summarize the model\n",
        "# print(model.summary())"
      ],
      "execution_count": 34,
      "outputs": [
        {
          "output_type": "stream",
          "text": [
            "Model: \"sequential_1\"\n",
            "_________________________________________________________________\n",
            "Layer (type)                 Output Shape              Param #   \n",
            "=================================================================\n",
            "embedding_1 (Embedding)      (None, 2, 8)              800       \n",
            "_________________________________________________________________\n",
            "flatten_1 (Flatten)          (None, 16)                0         \n",
            "_________________________________________________________________\n",
            "dense_1 (Dense)              (None, 1)                 17        \n",
            "=================================================================\n",
            "Total params: 817\n",
            "Trainable params: 817\n",
            "Non-trainable params: 0\n",
            "_________________________________________________________________\n",
            "None\n"
          ],
          "name": "stdout"
        }
      ]
    },
    {
      "cell_type": "code",
      "metadata": {
        "colab": {
          "base_uri": "https://localhost:8080/"
        },
        "id": "7gVvaDtqbVkc",
        "outputId": "47efc3f4-0d72-47f4-f546-af83ea463b18"
      },
      "source": [
        "model.fit(temp,y_train)"
      ],
      "execution_count": 35,
      "outputs": [
        {
          "output_type": "stream",
          "text": [
            "1032/1032 [==============================] - 9s 1ms/step - loss: -6380.2772 - accuracy: 0.0000e+00\n"
          ],
          "name": "stdout"
        },
        {
          "output_type": "execute_result",
          "data": {
            "text/plain": [
              "<keras.callbacks.History at 0x7f5a9975f450>"
            ]
          },
          "metadata": {
            "tags": []
          },
          "execution_count": 35
        }
      ]
    },
    {
      "cell_type": "code",
      "metadata": {
        "colab": {
          "base_uri": "https://localhost:8080/"
        },
        "id": "QOccHLShc89K",
        "outputId": "f395f64a-a899-4b9c-a894-55db50b8216c"
      },
      "source": [
        "print(model.summary())"
      ],
      "execution_count": 36,
      "outputs": [
        {
          "output_type": "stream",
          "text": [
            "Model: \"sequential_1\"\n",
            "_________________________________________________________________\n",
            "Layer (type)                 Output Shape              Param #   \n",
            "=================================================================\n",
            "embedding_1 (Embedding)      (None, 2, 8)              800       \n",
            "_________________________________________________________________\n",
            "flatten_1 (Flatten)          (None, 16)                0         \n",
            "_________________________________________________________________\n",
            "dense_1 (Dense)              (None, 1)                 17        \n",
            "=================================================================\n",
            "Total params: 817\n",
            "Trainable params: 817\n",
            "Non-trainable params: 0\n",
            "_________________________________________________________________\n",
            "None\n"
          ],
          "name": "stdout"
        }
      ]
    },
    {
      "cell_type": "code",
      "metadata": {
        "id": "IFkIUAaedNHr"
      },
      "source": [
        ""
      ],
      "execution_count": null,
      "outputs": []
    }
  ]
}